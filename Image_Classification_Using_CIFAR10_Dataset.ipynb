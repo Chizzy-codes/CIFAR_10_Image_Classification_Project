{
  "nbformat": 4,
  "nbformat_minor": 0,
  "metadata": {
    "accelerator": "GPU",
    "colab": {
      "name": "Image_Classification_Using_CIFAR10_Dataset.ipynb",
      "provenance": [],
      "include_colab_link": true
    },
    "kernelspec": {
      "name": "python3",
      "display_name": "Python 3"
    },
    "toc": {
      "base_numbering": 1,
      "nav_menu": {},
      "number_sections": true,
      "sideBar": true,
      "skip_h1_title": false,
      "title_cell": "Table of Contents",
      "title_sidebar": "Contents",
      "toc_cell": false,
      "toc_position": {},
      "toc_section_display": true,
      "toc_window_display": false
    },
    "varInspector": {
      "cols": {
        "lenName": 16,
        "lenType": 16,
        "lenVar": 40
      },
      "kernels_config": {
        "python": {
          "delete_cmd_postfix": "",
          "delete_cmd_prefix": "del ",
          "library": "var_list.py",
          "varRefreshCmd": "print(var_dic_list())"
        },
        "r": {
          "delete_cmd_postfix": ") ",
          "delete_cmd_prefix": "rm(",
          "library": "var_list.r",
          "varRefreshCmd": "cat(var_dic_list()) "
        }
      },
      "types_to_exclude": [
        "module",
        "function",
        "builtin_function_or_method",
        "instance",
        "_Feature"
      ],
      "window_display": false
    }
  },
  "cells": [
    {
      "cell_type": "markdown",
      "metadata": {
        "id": "view-in-github",
        "colab_type": "text"
      },
      "source": [
        "<a href=\"https://colab.research.google.com/github/Chizzy-codes/CIFAR_10_Image_Classification_Project/blob/master/Image_Classification_Using_CIFAR10_Dataset.ipynb\" target=\"_parent\"><img src=\"https://colab.research.google.com/assets/colab-badge.svg\" alt=\"Open In Colab\"/></a>"
      ]
    },
    {
      "cell_type": "code",
      "metadata": {
        "id": "JKXW_TYCrDk_",
        "outputId": "dcbfbdba-602a-4a76-ec75-74fa0f679f0a",
        "colab": {
          "base_uri": "https://localhost:8080/"
        }
      },
      "source": [
        "# needs to be run on colab or kaggle notebook\n",
        "!pip install tensorflow-gpu"
      ],
      "execution_count": 1,
      "outputs": [
        {
          "output_type": "stream",
          "text": [
            "Collecting tensorflow-gpu\n",
            "\u001b[?25l  Downloading https://files.pythonhosted.org/packages/18/99/ac32fd13d56e40d4c3e6150030132519997c0bb1f06f448d970e81b177e5/tensorflow_gpu-2.3.1-cp36-cp36m-manylinux2010_x86_64.whl (320.4MB)\n",
            "\u001b[K     |████████████████████████████████| 320.4MB 46kB/s \n",
            "\u001b[?25hRequirement already satisfied: numpy<1.19.0,>=1.16.0 in /usr/local/lib/python3.6/dist-packages (from tensorflow-gpu) (1.18.5)\n",
            "Requirement already satisfied: opt-einsum>=2.3.2 in /usr/local/lib/python3.6/dist-packages (from tensorflow-gpu) (3.3.0)\n",
            "Requirement already satisfied: absl-py>=0.7.0 in /usr/local/lib/python3.6/dist-packages (from tensorflow-gpu) (0.10.0)\n",
            "Requirement already satisfied: gast==0.3.3 in /usr/local/lib/python3.6/dist-packages (from tensorflow-gpu) (0.3.3)\n",
            "Requirement already satisfied: six>=1.12.0 in /usr/local/lib/python3.6/dist-packages (from tensorflow-gpu) (1.15.0)\n",
            "Requirement already satisfied: grpcio>=1.8.6 in /usr/local/lib/python3.6/dist-packages (from tensorflow-gpu) (1.33.2)\n",
            "Requirement already satisfied: tensorboard<3,>=2.3.0 in /usr/local/lib/python3.6/dist-packages (from tensorflow-gpu) (2.3.0)\n",
            "Requirement already satisfied: tensorflow-estimator<2.4.0,>=2.3.0 in /usr/local/lib/python3.6/dist-packages (from tensorflow-gpu) (2.3.0)\n",
            "Requirement already satisfied: wheel>=0.26 in /usr/local/lib/python3.6/dist-packages (from tensorflow-gpu) (0.35.1)\n",
            "Requirement already satisfied: google-pasta>=0.1.8 in /usr/local/lib/python3.6/dist-packages (from tensorflow-gpu) (0.2.0)\n",
            "Requirement already satisfied: termcolor>=1.1.0 in /usr/local/lib/python3.6/dist-packages (from tensorflow-gpu) (1.1.0)\n",
            "Requirement already satisfied: h5py<2.11.0,>=2.10.0 in /usr/local/lib/python3.6/dist-packages (from tensorflow-gpu) (2.10.0)\n",
            "Requirement already satisfied: wrapt>=1.11.1 in /usr/local/lib/python3.6/dist-packages (from tensorflow-gpu) (1.12.1)\n",
            "Requirement already satisfied: astunparse==1.6.3 in /usr/local/lib/python3.6/dist-packages (from tensorflow-gpu) (1.6.3)\n",
            "Requirement already satisfied: keras-preprocessing<1.2,>=1.1.1 in /usr/local/lib/python3.6/dist-packages (from tensorflow-gpu) (1.1.2)\n",
            "Requirement already satisfied: protobuf>=3.9.2 in /usr/local/lib/python3.6/dist-packages (from tensorflow-gpu) (3.12.4)\n",
            "Requirement already satisfied: requests<3,>=2.21.0 in /usr/local/lib/python3.6/dist-packages (from tensorboard<3,>=2.3.0->tensorflow-gpu) (2.23.0)\n",
            "Requirement already satisfied: google-auth<2,>=1.6.3 in /usr/local/lib/python3.6/dist-packages (from tensorboard<3,>=2.3.0->tensorflow-gpu) (1.17.2)\n",
            "Requirement already satisfied: setuptools>=41.0.0 in /usr/local/lib/python3.6/dist-packages (from tensorboard<3,>=2.3.0->tensorflow-gpu) (50.3.2)\n",
            "Requirement already satisfied: werkzeug>=0.11.15 in /usr/local/lib/python3.6/dist-packages (from tensorboard<3,>=2.3.0->tensorflow-gpu) (1.0.1)\n",
            "Requirement already satisfied: markdown>=2.6.8 in /usr/local/lib/python3.6/dist-packages (from tensorboard<3,>=2.3.0->tensorflow-gpu) (3.3.3)\n",
            "Requirement already satisfied: tensorboard-plugin-wit>=1.6.0 in /usr/local/lib/python3.6/dist-packages (from tensorboard<3,>=2.3.0->tensorflow-gpu) (1.7.0)\n",
            "Requirement already satisfied: google-auth-oauthlib<0.5,>=0.4.1 in /usr/local/lib/python3.6/dist-packages (from tensorboard<3,>=2.3.0->tensorflow-gpu) (0.4.2)\n",
            "Requirement already satisfied: chardet<4,>=3.0.2 in /usr/local/lib/python3.6/dist-packages (from requests<3,>=2.21.0->tensorboard<3,>=2.3.0->tensorflow-gpu) (3.0.4)\n",
            "Requirement already satisfied: idna<3,>=2.5 in /usr/local/lib/python3.6/dist-packages (from requests<3,>=2.21.0->tensorboard<3,>=2.3.0->tensorflow-gpu) (2.10)\n",
            "Requirement already satisfied: certifi>=2017.4.17 in /usr/local/lib/python3.6/dist-packages (from requests<3,>=2.21.0->tensorboard<3,>=2.3.0->tensorflow-gpu) (2020.6.20)\n",
            "Requirement already satisfied: urllib3!=1.25.0,!=1.25.1,<1.26,>=1.21.1 in /usr/local/lib/python3.6/dist-packages (from requests<3,>=2.21.0->tensorboard<3,>=2.3.0->tensorflow-gpu) (1.24.3)\n",
            "Requirement already satisfied: rsa<5,>=3.1.4; python_version >= \"3\" in /usr/local/lib/python3.6/dist-packages (from google-auth<2,>=1.6.3->tensorboard<3,>=2.3.0->tensorflow-gpu) (4.6)\n",
            "Requirement already satisfied: cachetools<5.0,>=2.0.0 in /usr/local/lib/python3.6/dist-packages (from google-auth<2,>=1.6.3->tensorboard<3,>=2.3.0->tensorflow-gpu) (4.1.1)\n",
            "Requirement already satisfied: pyasn1-modules>=0.2.1 in /usr/local/lib/python3.6/dist-packages (from google-auth<2,>=1.6.3->tensorboard<3,>=2.3.0->tensorflow-gpu) (0.2.8)\n",
            "Requirement already satisfied: importlib-metadata; python_version < \"3.8\" in /usr/local/lib/python3.6/dist-packages (from markdown>=2.6.8->tensorboard<3,>=2.3.0->tensorflow-gpu) (2.0.0)\n",
            "Requirement already satisfied: requests-oauthlib>=0.7.0 in /usr/local/lib/python3.6/dist-packages (from google-auth-oauthlib<0.5,>=0.4.1->tensorboard<3,>=2.3.0->tensorflow-gpu) (1.3.0)\n",
            "Requirement already satisfied: pyasn1>=0.1.3 in /usr/local/lib/python3.6/dist-packages (from rsa<5,>=3.1.4; python_version >= \"3\"->google-auth<2,>=1.6.3->tensorboard<3,>=2.3.0->tensorflow-gpu) (0.4.8)\n",
            "Requirement already satisfied: zipp>=0.5 in /usr/local/lib/python3.6/dist-packages (from importlib-metadata; python_version < \"3.8\"->markdown>=2.6.8->tensorboard<3,>=2.3.0->tensorflow-gpu) (3.4.0)\n",
            "Requirement already satisfied: oauthlib>=3.0.0 in /usr/local/lib/python3.6/dist-packages (from requests-oauthlib>=0.7.0->google-auth-oauthlib<0.5,>=0.4.1->tensorboard<3,>=2.3.0->tensorflow-gpu) (3.1.0)\n",
            "Installing collected packages: tensorflow-gpu\n",
            "Successfully installed tensorflow-gpu-2.3.1\n"
          ],
          "name": "stdout"
        }
      ]
    },
    {
      "cell_type": "markdown",
      "metadata": {
        "id": "FBV-fDpxrAzI"
      },
      "source": [
        "# Importing the needed libraries"
      ]
    },
    {
      "cell_type": "code",
      "metadata": {
        "ExecuteTime": {
          "end_time": "2020-11-05T17:51:00.132910Z",
          "start_time": "2020-11-05T17:49:04.111536Z"
        },
        "id": "JrhrnQc1rAzK"
      },
      "source": [
        "import os\n",
        "import numpy as np\n",
        "import pandas as pd\n",
        "import matplotlib.pyplot as plt\n",
        "import seaborn as sns\n",
        "import pickle\n",
        "\n",
        "from sklearn.preprocessing import OneHotEncoder\n",
        "from sklearn.metrics import classification_report, confusion_matrix\n",
        "from tensorflow.keras.layers.experimental import preprocessing\n",
        "\n",
        "%matplotlib inline\n",
        "sns.set()"
      ],
      "execution_count": 2,
      "outputs": []
    },
    {
      "cell_type": "markdown",
      "metadata": {
        "ExecuteTime": {
          "end_time": "2020-10-26T13:49:45.900384Z",
          "start_time": "2020-10-26T13:49:45.885385Z"
        },
        "id": "4c2PZo9TrAzU"
      },
      "source": [
        "# The current state of the art performance for this dataset is 99 accuracy (GPipe: Efficient Training of Giant Neural Networks using pipeline parallelism)"
      ]
    },
    {
      "cell_type": "code",
      "metadata": {
        "ExecuteTime": {
          "end_time": "2020-11-05T17:51:00.213795Z",
          "start_time": "2020-11-05T17:51:00.175346Z"
        },
        "id": "XGu4nwQ5rAzW"
      },
      "source": [
        "import tensorflow as tf\n",
        "from tensorflow.keras.layers import Dense, BatchNormalization, Dropout, Flatten\n",
        "from tensorflow.keras.models import Sequential\n",
        "from tensorflow.keras import datasets\n",
        "from tensorflow.keras.applications.vgg16 import preprocess_input"
      ],
      "execution_count": 3,
      "outputs": []
    },
    {
      "cell_type": "code",
      "metadata": {
        "ExecuteTime": {
          "end_time": "2020-11-05T17:51:24.093053Z",
          "start_time": "2020-11-05T17:51:00.248559Z"
        },
        "id": "uIPg-lXMrAzb",
        "outputId": "f710585e-88a2-4a2b-e97b-662ac0480f5d",
        "colab": {
          "base_uri": "https://localhost:8080/"
        }
      },
      "source": [
        "# Setting random seed for reproducible results\n",
        "\n",
        "from tensorflow.python.client import device_lib \n",
        "\n",
        "np.random.seed(42)\n",
        "tf.random.set_seed(42)\n",
        "os.environ['PYTHONHASHSEED'] = str(42)\n",
        "os.environ['TF_DETERMINISTIC_OPS'] = '1'\n",
        "\n",
        "print(device_lib.list_local_devices())"
      ],
      "execution_count": 4,
      "outputs": [
        {
          "output_type": "stream",
          "text": [
            "[name: \"/device:CPU:0\"\n",
            "device_type: \"CPU\"\n",
            "memory_limit: 268435456\n",
            "locality {\n",
            "}\n",
            "incarnation: 8782620242756002389\n",
            ", name: \"/device:XLA_CPU:0\"\n",
            "device_type: \"XLA_CPU\"\n",
            "memory_limit: 17179869184\n",
            "locality {\n",
            "}\n",
            "incarnation: 5802259631726605253\n",
            "physical_device_desc: \"device: XLA_CPU device\"\n",
            ", name: \"/device:XLA_GPU:0\"\n",
            "device_type: \"XLA_GPU\"\n",
            "memory_limit: 17179869184\n",
            "locality {\n",
            "}\n",
            "incarnation: 18095471703029348698\n",
            "physical_device_desc: \"device: XLA_GPU device\"\n",
            ", name: \"/device:GPU:0\"\n",
            "device_type: \"GPU\"\n",
            "memory_limit: 14613293312\n",
            "locality {\n",
            "  bus_id: 1\n",
            "  links {\n",
            "  }\n",
            "}\n",
            "incarnation: 5863395658410371058\n",
            "physical_device_desc: \"device: 0, name: Tesla T4, pci bus id: 0000:00:04.0, compute capability: 7.5\"\n",
            "]\n"
          ],
          "name": "stdout"
        }
      ]
    },
    {
      "cell_type": "markdown",
      "metadata": {
        "id": "srUyiC0-rAzj"
      },
      "source": [
        "# Importing the cifar 10 dataset\n",
        "- Data downloaded from https://www.cs.toronto.edu/~kriz/cifar.html"
      ]
    },
    {
      "cell_type": "code",
      "metadata": {
        "ExecuteTime": {
          "end_time": "2020-11-05T17:51:55.005004Z",
          "start_time": "2020-11-05T17:51:54.941974Z"
        },
        "id": "VHLVRF1VrAzk"
      },
      "source": [
        "image_size = 32\n",
        "num_channels = 3\n",
        "image_size_flat = image_size * image_size * num_channels\n",
        "num_classes = 10\n",
        "train_files = 5\n",
        "image_per_file = 10000\n",
        "num_train_images = 50000\n",
        "\n",
        "# functions for processing raw cifar file from memory\n",
        "\n",
        "\n",
        "# change the raw data to float and normalize them by dividing by the highest pixel value 255\n",
        "def convert(raw):\n",
        "    raw_float = np.array(raw, dtype=float)\n",
        "    #reshape into 4 dimensions\n",
        "    images = raw_float.reshape(-1, num_channels, image_size, image_size)\n",
        "    # reorder image shape indices\n",
        "    images = images.transpose([0,2,3,1])\n",
        "    return images\n",
        "\n",
        "# load pickle files and return the images and class label\n",
        "def load(filename):\n",
        "    #load pickle files\n",
        "    with open(filename, 'rb') as f:\n",
        "        data = pickle.load(f, encoding='bytes')\n",
        "    \n",
        "    # get raw images and label\n",
        "    raw_images = data[b'data']\n",
        "    labels = np.array(data[b'labels'])\n",
        "    \n",
        "    # convert the images\n",
        "    images = convert(raw_images)\n",
        "    \n",
        "    return images, labels\n",
        "\n",
        "# load the name of the classes in the cifar-10 dataset\n",
        "def load_class_names():\n",
        "    with open('data/batches.meta', 'rb') as f:\n",
        "        raw = pickle.load(f, encoding='bytes')[b'label_names']\n",
        "    \n",
        "    # convert from binary strings to strings\n",
        "    names = [x.decode('utf-8') for x in raw]\n",
        "    \n",
        "    return names\n",
        "\n",
        "# Load all the 5 batch files of the cifar 10 dataset and combine them in a single training dataset\n",
        "def load_train_data():\n",
        "    # create placeholder image and label arrays\n",
        "    images = np.zeros(shape=[num_train_images, image_size, image_size, num_channels], dtype='float')\n",
        "    labels = np.zeros(shape=[num_train_images], dtype='int')\n",
        "    \n",
        "    # begin index for the current batch\n",
        "    begin = 0\n",
        "    \n",
        "    # for each data file\n",
        "    for i in range(train_files):\n",
        "        # load images and labels\n",
        "        image_batch, label_batch = load('data/data_batch_' + str(i+1))\n",
        "        \n",
        "        # number of images for this batch\n",
        "        num_images = len(image_batch)\n",
        "        \n",
        "        # End-index for the current batch\n",
        "        end = begin + num_images\n",
        "        \n",
        "        # store images in an array\n",
        "        images[begin:end, :] = image_batch\n",
        "        \n",
        "        # store the labels in an array\n",
        "        labels[begin:end] = label_batch\n",
        "        \n",
        "        # the begin index is for the next batch is the current end-index\n",
        "        begin = end\n",
        "        \n",
        "    return images, labels, OneHotEncoder(sparse=False).fit_transform(labels.reshape(-1, 1))\n",
        "\n",
        "\n",
        "# load test data\n",
        "def load_test_data():\n",
        "    images, labels = load('data/test_batch')\n",
        "    \n",
        "    return images, labels, OneHotEncoder(sparse=False).fit_transform(labels.reshape(-1, 1))        "
      ],
      "execution_count": null,
      "outputs": []
    },
    {
      "cell_type": "code",
      "metadata": {
        "ExecuteTime": {
          "end_time": "2020-11-05T17:52:04.853048Z",
          "start_time": "2020-11-05T17:52:00.667099Z"
        },
        "id": "4gnhMrDurAzv"
      },
      "source": [
        "# load data\n",
        "\n",
        "X_train, y_train, y_train_oh = load_train_data()\n",
        "X_test, y_test, y_test_oh = load_test_data()\n",
        "classes = load_class_names()"
      ],
      "execution_count": null,
      "outputs": []
    },
    {
      "cell_type": "code",
      "metadata": {
        "ExecuteTime": {
          "end_time": "2020-11-05T17:52:10.127120Z",
          "start_time": "2020-11-05T17:52:10.111449Z"
        },
        "id": "eSsV8ICErAz5",
        "outputId": "a0a84b79-e6b6-4cbd-ac0e-9040a98a6a7f"
      },
      "source": [
        "X_train.shape, X_test.shape"
      ],
      "execution_count": null,
      "outputs": [
        {
          "output_type": "execute_result",
          "data": {
            "text/plain": [
              "((50000, 32, 32, 3), (10000, 32, 32, 3))"
            ]
          },
          "metadata": {
            "tags": []
          },
          "execution_count": 7
        }
      ]
    },
    {
      "cell_type": "code",
      "metadata": {
        "ExecuteTime": {
          "end_time": "2020-11-05T17:52:12.652298Z",
          "start_time": "2020-11-05T17:52:11.633421Z"
        },
        "id": "arD-Cjy5rAz-",
        "outputId": "a1152646-cf31-44e2-91e6-8dda31386f9f",
        "colab": {
          "base_uri": "https://localhost:8080/"
        }
      },
      "source": [
        "# Alternatively u can load the cifar10 dataset using keras dataset \n",
        "\n",
        "(X_train, y_train), (X_test, y_test) = datasets.cifar10.load_data()"
      ],
      "execution_count": 5,
      "outputs": [
        {
          "output_type": "stream",
          "text": [
            "Downloading data from https://www.cs.toronto.edu/~kriz/cifar-10-python.tar.gz\n",
            "170500096/170498071 [==============================] - 2s 0us/step\n"
          ],
          "name": "stdout"
        }
      ]
    },
    {
      "cell_type": "code",
      "metadata": {
        "ExecuteTime": {
          "end_time": "2020-11-05T17:52:17.795987Z",
          "start_time": "2020-11-05T17:52:17.783980Z"
        },
        "id": "cNuE9prRrA0G",
        "outputId": "21b027c4-9a5d-459c-ae3a-545ab4bc4f8a",
        "colab": {
          "base_uri": "https://localhost:8080/"
        }
      },
      "source": [
        "y_train"
      ],
      "execution_count": null,
      "outputs": [
        {
          "output_type": "execute_result",
          "data": {
            "text/plain": [
              "array([[6],\n",
              "       [9],\n",
              "       [9],\n",
              "       ...,\n",
              "       [9],\n",
              "       [1],\n",
              "       [1]], dtype=uint8)"
            ]
          },
          "metadata": {
            "tags": []
          },
          "execution_count": 9
        }
      ]
    },
    {
      "cell_type": "code",
      "metadata": {
        "ExecuteTime": {
          "end_time": "2020-11-05T17:52:19.732231Z",
          "start_time": "2020-11-05T17:52:19.696178Z"
        },
        "id": "9vOflPYIrA0M",
        "outputId": "4ff79533-929d-45be-f272-db5b54ca101b",
        "colab": {
          "base_uri": "https://localhost:8080/"
        }
      },
      "source": [
        "y_train.shape, y_test.shape"
      ],
      "execution_count": null,
      "outputs": [
        {
          "output_type": "execute_result",
          "data": {
            "text/plain": [
              "((50000, 1), (10000, 1))"
            ]
          },
          "metadata": {
            "tags": []
          },
          "execution_count": 10
        }
      ]
    },
    {
      "cell_type": "code",
      "metadata": {
        "ExecuteTime": {
          "end_time": "2020-11-05T17:52:24.518717Z",
          "start_time": "2020-11-05T17:52:22.570010Z"
        },
        "id": "N-FXvSFWrA0W",
        "outputId": "f68ea569-b74b-40d1-fe2f-494d31276fad",
        "colab": {
          "base_uri": "https://localhost:8080/",
          "height": 285
        }
      },
      "source": [
        "x = X_train.copy()/255\n",
        "\n",
        "plt.imshow(x[7])"
      ],
      "execution_count": null,
      "outputs": [
        {
          "output_type": "execute_result",
          "data": {
            "text/plain": [
              "<matplotlib.image.AxesImage at 0x1cc20f5c688>"
            ]
          },
          "metadata": {
            "tags": []
          },
          "execution_count": 11
        },
        {
          "output_type": "display_data",
          "data": {
            "image/png": "[encoded data removed]",
            "text/plain": [
              "<Figure size 432x288 with 1 Axes>"
            ]
          },
          "metadata": {
            "tags": [],
            "needs_background": "light"
          }
        }
      ]
    },
    {
      "cell_type": "code",
      "metadata": {
        "ExecuteTime": {
          "end_time": "2020-11-05T17:52:25.431229Z",
          "start_time": "2020-11-05T17:52:25.405224Z"
        },
        "id": "zfh1JeW8rA0b",
        "outputId": "ba757ad5-6331-4b1e-a3a3-e1b18a6bae9b"
      },
      "source": [
        "y_train.shape"
      ],
      "execution_count": null,
      "outputs": [
        {
          "output_type": "execute_result",
          "data": {
            "text/plain": [
              "(50000, 1)"
            ]
          },
          "metadata": {
            "tags": []
          },
          "execution_count": 12
        }
      ]
    },
    {
      "cell_type": "code",
      "metadata": {
        "ExecuteTime": {
          "end_time": "2020-11-05T17:52:27.105580Z",
          "start_time": "2020-11-05T17:52:27.076578Z"
        },
        "id": "-BxdkfLmrA0g",
        "outputId": "fa421504-a951-44f6-addf-58b537ed724e"
      },
      "source": [
        "y_train[4]"
      ],
      "execution_count": null,
      "outputs": [
        {
          "output_type": "execute_result",
          "data": {
            "text/plain": [
              "array([1], dtype=uint8)"
            ]
          },
          "metadata": {
            "tags": []
          },
          "execution_count": 13
        }
      ]
    },
    {
      "cell_type": "code",
      "metadata": {
        "ExecuteTime": {
          "end_time": "2020-11-05T17:52:29.601901Z",
          "start_time": "2020-11-05T17:52:29.575916Z"
        },
        "id": "iS8YaaI8rA0m"
      },
      "source": [
        "# Reshaping y_train, and y_test\n",
        "y_train1 = y_train.reshape(-1,)\n"
      ],
      "execution_count": null,
      "outputs": []
    },
    {
      "cell_type": "code",
      "metadata": {
        "ExecuteTime": {
          "end_time": "2020-11-05T17:54:07.107424Z",
          "start_time": "2020-11-05T17:54:07.075406Z"
        },
        "id": "Sa0G625y0HHe",
        "outputId": "b95d2042-ffc2-4f0e-e3ab-7c89180fd7db"
      },
      "source": [
        "classes = ['airplane',\n",
        " 'automobile',\n",
        " 'bird',\n",
        " 'cat',\n",
        " 'deer',\n",
        " 'dog',\n",
        " 'frog',\n",
        " 'horse',\n",
        " 'ship',\n",
        " 'truck']"
      ],
      "execution_count": null,
      "outputs": [
        {
          "output_type": "execute_result",
          "data": {
            "text/plain": [
              "['airplane',\n",
              " 'automobile',\n",
              " 'bird',\n",
              " 'cat',\n",
              " 'deer',\n",
              " 'dog',\n",
              " 'frog',\n",
              " 'horse',\n",
              " 'ship',\n",
              " 'truck']"
            ]
          },
          "metadata": {
            "tags": []
          },
          "execution_count": 16
        }
      ]
    },
    {
      "cell_type": "code",
      "metadata": {
        "ExecuteTime": {
          "end_time": "2020-11-05T17:54:50.151874Z",
          "start_time": "2020-11-05T17:54:49.809138Z"
        },
        "id": "u6RhqchtrA0t",
        "outputId": "efb01fcf-4042-4e04-8d5b-caad779b5bf1",
        "colab": {
          "base_uri": "https://localhost:8080/",
          "height": 178
        }
      },
      "source": [
        "print(classes[y_train1[3]])\n",
        "plt.imshow(x[3])"
      ],
      "execution_count": null,
      "outputs": [
        {
          "output_type": "stream",
          "text": [
            "deer\n"
          ],
          "name": "stdout"
        },
        {
          "output_type": "execute_result",
          "data": {
            "text/plain": [
              "<matplotlib.image.AxesImage at 0x1cc2826cbc8>"
            ]
          },
          "metadata": {
            "tags": []
          },
          "execution_count": 17
        },
        {
          "output_type": "display_data",
          "data": {
            "image/png": "[encoded data removed]",
            "text/plain": [
              "<Figure size 432x288 with 1 Axes>"
            ]
          },
          "metadata": {
            "tags": [],
            "needs_background": "light"
          }
        }
      ]
    },
    {
      "cell_type": "markdown",
      "metadata": {
        "id": "oKiDMncmrA0y"
      },
      "source": [
        "# After investigating the images,  we can say that the images would benefit from horizontal flip and random brightness data augmentations"
      ]
    },
    {
      "cell_type": "code",
      "metadata": {
        "ExecuteTime": {
          "end_time": "2020-11-05T17:55:04.987973Z",
          "start_time": "2020-11-05T17:55:04.227507Z"
        },
        "id": "VzMX0H65rA0z"
      },
      "source": [
        "# Normalising the values by dividing by the maximum pixel value (255) if you loaded data from tensorflow library\n",
        "\n",
        "X_train =  X_train/255\n",
        "X_test = X_test/255\n"
      ],
      "execution_count": 6,
      "outputs": []
    },
    {
      "cell_type": "code",
      "metadata": {
        "ExecuteTime": {
          "end_time": "2020-11-05T17:55:19.352178Z",
          "start_time": "2020-11-05T17:55:19.336133Z"
        },
        "id": "VrctLBW6sQBN"
      },
      "source": [
        "# converting the labels values to one hot encoded values\n",
        "\n",
        "y_train = tf.keras.utils.to_categorical(y_train, 10)\n",
        "y_test = tf.keras.utils.to_categorical(y_test, 10)"
      ],
      "execution_count": 7,
      "outputs": []
    },
    {
      "cell_type": "markdown",
      "metadata": {
        "id": "a5Vrk19urA03"
      },
      "source": [
        "## Use sklearn split the training data into train / validate datasets"
      ]
    },
    {
      "cell_type": "code",
      "metadata": {
        "ExecuteTime": {
          "end_time": "2020-11-05T17:55:24.626416Z",
          "start_time": "2020-11-05T17:55:22.312485Z"
        },
        "id": "KJX_nEGErA04"
      },
      "source": [
        "from sklearn.model_selection import StratifiedShuffleSplit\n",
        "\n",
        "ss = StratifiedShuffleSplit(n_splits=1, test_size=0.1, random_state=42)\n",
        "\n",
        "for train_index, test_index in ss.split(X_train, y_train):\n",
        "    X_train, X_val = X_train[train_index], X_train[test_index]\n",
        "    y_train, y_val = y_train[train_index], y_train[test_index]"
      ],
      "execution_count": 8,
      "outputs": []
    },
    {
      "cell_type": "code",
      "metadata": {
        "ExecuteTime": {
          "end_time": "2020-11-05T17:55:24.891861Z",
          "start_time": "2020-11-05T17:55:24.866866Z"
        },
        "id": "Jr73MZGqrA07",
        "outputId": "53fdd965-8c36-4f15-c72c-e869e8a247da",
        "colab": {
          "base_uri": "https://localhost:8080/"
        }
      },
      "source": [
        "X_train.shape, X_val.shape, y_train.shape, y_val.shape"
      ],
      "execution_count": null,
      "outputs": [
        {
          "output_type": "execute_result",
          "data": {
            "text/plain": [
              "((45000, 32, 32, 3), (5000, 32, 32, 3), (45000, 10), (5000, 10))"
            ]
          },
          "metadata": {
            "tags": []
          },
          "execution_count": 21
        }
      ]
    },
    {
      "cell_type": "markdown",
      "metadata": {
        "ExecuteTime": {
          "end_time": "2020-10-30T12:12:48.297330Z",
          "start_time": "2020-10-30T12:12:48.225331Z"
        },
        "id": "ei_n7hgNrA0-"
      },
      "source": [
        "### use the X_val and y_val as validation data"
      ]
    },
    {
      "cell_type": "markdown",
      "metadata": {
        "id": "30kVVgvTrA0_"
      },
      "source": [
        "# Training models on the train and test data"
      ]
    },
    {
      "cell_type": "markdown",
      "metadata": {
        "id": "V9GriaXerA1A"
      },
      "source": [
        "## Using an Artificial Neural Network"
      ]
    },
    {
      "cell_type": "code",
      "metadata": {
        "ExecuteTime": {
          "end_time": "2020-11-02T12:10:52.880816Z",
          "start_time": "2020-11-02T12:06:20.965087Z"
        },
        "id": "Hj0Xnw6wrA1A",
        "outputId": "510b3953-f479-417f-b73f-84db7a8cd2e9"
      },
      "source": [
        "model = Sequential()\n",
        "model.add(Flatten(input_shape=(32,32,3)))\n",
        "model.add(Dense(3072, activation='relu'))\n",
        "model.add(Dense(1024, activation='relu'))\n",
        "model.add(Dense(10, activation='sigmoid'))\n",
        "\n",
        "print(model.summary())\n",
        "\n",
        "model.compile(optimizer='SGD', loss='categorical_crossentropy', metrics=['accuracy'])\n",
        "\n",
        "es = tf.keras.callbacks.EarlyStopping(monitor='val_loss', patience=5)\n",
        "model.fit(X_train, y_train,  validation_data=[X_val, y_val], epochs=40, callbacks=[es])"
      ],
      "execution_count": null,
      "outputs": [
        {
          "output_type": "stream",
          "text": [
            "Model: \"sequential_16\"\n",
            "_________________________________________________________________\n",
            "Layer (type)                 Output Shape              Param #   \n",
            "=================================================================\n",
            "flatten_16 (Flatten)         (None, 3072)              0         \n",
            "_________________________________________________________________\n",
            "dense_52 (Dense)             (None, 3072)              9440256   \n",
            "_________________________________________________________________\n",
            "dense_53 (Dense)             (None, 1024)              3146752   \n",
            "_________________________________________________________________\n",
            "dense_54 (Dense)             (None, 10)                10250     \n",
            "=================================================================\n",
            "Total params: 12,597,258\n",
            "Trainable params: 12,597,258\n",
            "Non-trainable params: 0\n",
            "_________________________________________________________________\n",
            "None\n",
            "Train on 45000 samples, validate on 5000 samples\n",
            "Epoch 1/40\n",
            "45000/45000 [==============================] - 19s 429us/sample - loss: 1.8733 - accuracy: 0.3294 - val_loss: 2.2020 - val_accuracy: 0.2298\n",
            "Epoch 2/40\n",
            "45000/45000 [==============================] - 19s 426us/sample - loss: 1.6728 - accuracy: 0.4060 - val_loss: 1.8553 - val_accuracy: 0.3388\n",
            "Epoch 3/40\n",
            "45000/45000 [==============================] - 19s 430us/sample - loss: 1.5845 - accuracy: 0.4387 - val_loss: 1.6614 - val_accuracy: 0.4108\n",
            "Epoch 4/40\n",
            "45000/45000 [==============================] - 19s 430us/sample - loss: 1.5239 - accuracy: 0.4603 - val_loss: 1.6722 - val_accuracy: 0.3964\n",
            "Epoch 5/40\n",
            "45000/45000 [==============================] - 19s 430us/sample - loss: 1.4780 - accuracy: 0.4775 - val_loss: 1.5599 - val_accuracy: 0.4362\n",
            "Epoch 6/40\n",
            "45000/45000 [==============================] - 19s 430us/sample - loss: 1.4316 - accuracy: 0.4939 - val_loss: 1.5354 - val_accuracy: 0.4626\n",
            "Epoch 7/40\n",
            "45000/45000 [==============================] - 19s 430us/sample - loss: 1.3909 - accuracy: 0.5100 - val_loss: 1.5613 - val_accuracy: 0.4490\n",
            "Epoch 8/40\n",
            "45000/45000 [==============================] - 20s 436us/sample - loss: 1.3552 - accuracy: 0.5223 - val_loss: 1.6284 - val_accuracy: 0.4300\n",
            "Epoch 9/40\n",
            "45000/45000 [==============================] - 20s 434us/sample - loss: 1.3226 - accuracy: 0.5357 - val_loss: 1.4824 - val_accuracy: 0.4712\n",
            "Epoch 10/40\n",
            "45000/45000 [==============================] - 19s 430us/sample - loss: 1.2941 - accuracy: 0.5451 - val_loss: 1.8873 - val_accuracy: 0.3846\n",
            "Epoch 11/40\n",
            "45000/45000 [==============================] - 19s 430us/sample - loss: 1.2647 - accuracy: 0.5543 - val_loss: 1.5009 - val_accuracy: 0.4758\n",
            "Epoch 12/40\n",
            "45000/45000 [==============================] - 20s 435us/sample - loss: 1.2324 - accuracy: 0.5679 - val_loss: 1.9744 - val_accuracy: 0.3654\n",
            "Epoch 13/40\n",
            "45000/45000 [==============================] - 19s 431us/sample - loss: 1.2079 - accuracy: 0.5779 - val_loss: 1.4927 - val_accuracy: 0.4628\n",
            "Epoch 14/40\n",
            "45000/45000 [==============================] - 19s 430us/sample - loss: 1.1778 - accuracy: 0.5879 - val_loss: 1.5290 - val_accuracy: 0.4804\n"
          ],
          "name": "stdout"
        },
        {
          "output_type": "execute_result",
          "data": {
            "text/plain": [
              "<tensorflow.python.keras.callbacks.History at 0x20f6476b888>"
            ]
          },
          "metadata": {
            "tags": []
          },
          "execution_count": 92
        }
      ]
    },
    {
      "cell_type": "code",
      "metadata": {
        "ExecuteTime": {
          "end_time": "2020-11-02T12:11:32.420306Z",
          "start_time": "2020-11-02T12:11:30.161210Z"
        },
        "id": "caziHbNhrA1E",
        "outputId": "390fa4bc-d57a-4476-cabd-dd7ca69a9298"
      },
      "source": [
        "model.evaluate(X_test, y_test_oh) "
      ],
      "execution_count": null,
      "outputs": [
        {
          "output_type": "stream",
          "text": [
            "10000/10000 [==============================] - 2s 207us/sample - loss: 1.5203 - accuracy: 0.4728\n"
          ],
          "name": "stdout"
        },
        {
          "output_type": "execute_result",
          "data": {
            "text/plain": [
              "[1.5202577260971069, 0.4728]"
            ]
          },
          "metadata": {
            "tags": []
          },
          "execution_count": 94
        }
      ]
    },
    {
      "cell_type": "code",
      "metadata": {
        "ExecuteTime": {
          "end_time": "2020-10-28T21:51:18.224673Z",
          "start_time": "2020-10-28T21:51:16.553436Z"
        },
        "id": "TtZxTDD5rA1I",
        "outputId": "e0901ab6-9a4b-49e0-953e-f10f25edcc02"
      },
      "source": [
        "pred = model.predict(X_test)\n",
        "pred = [np.argmax(x) for x in pred]\n",
        "print(classification_report(y_test, pred))\n",
        "print('\\n')\n",
        "print(confusion_matrix(y_test, pred))"
      ],
      "execution_count": null,
      "outputs": [
        {
          "output_type": "stream",
          "text": [
            "              precision    recall  f1-score   support\n",
            "\n",
            "           0       0.65      0.50      0.56      1000\n",
            "           1       0.80      0.31      0.45      1000\n",
            "           2       0.34      0.55      0.42      1000\n",
            "           3       0.32      0.31      0.31      1000\n",
            "           4       0.69      0.12      0.21      1000\n",
            "           5       0.36      0.50      0.42      1000\n",
            "           6       0.46      0.70      0.55      1000\n",
            "           7       0.51      0.65      0.57      1000\n",
            "           8       0.79      0.49      0.60      1000\n",
            "           9       0.50      0.64      0.56      1000\n",
            "\n",
            "    accuracy                           0.48     10000\n",
            "   macro avg       0.54      0.48      0.47     10000\n",
            "weighted avg       0.54      0.48      0.47     10000\n",
            "\n",
            "\n",
            "\n",
            "[[498   8 183  32   1  47  55  66  55  55]\n",
            " [ 40 309  30  65   2  34  63  50  34 373]\n",
            " [ 33   3 547  75  16 104 120  87   3  12]\n",
            " [  5   2 106 308   5 312 171  64   6  21]\n",
            " [ 21   2 347  63 124 106 183 137   7  10]\n",
            " [  5   1 140 173   6 502  92  64   4  13]\n",
            " [  1   1 102  84  10  69 699  24   3   7]\n",
            " [ 14   0  78  70   8 102  51 652   2  23]\n",
            " [118  25  58  37   6  70  41  30 487 128]\n",
            " [ 31  35  22  56   2  44  61  99  12 638]]\n"
          ],
          "name": "stdout"
        }
      ]
    },
    {
      "cell_type": "markdown",
      "metadata": {
        "id": "PYKOgeOFrA1M"
      },
      "source": [
        "## The artificial neural network preformed poorly on the test data getting 48 percent accuracy. It performed best on class 8 (ship) and worst on class 4 (deer). Next we would try a convolution neural network which is more suited to images"
      ]
    },
    {
      "cell_type": "markdown",
      "metadata": {
        "id": "WIhDk3LKrA1N"
      },
      "source": [
        "# Convolution Neural Network"
      ]
    },
    {
      "cell_type": "code",
      "metadata": {
        "ExecuteTime": {
          "end_time": "2020-11-01T15:43:34.725515Z",
          "start_time": "2020-11-01T15:43:34.707524Z"
        },
        "id": "r6xxOzt4rA1N"
      },
      "source": [
        "from tensorflow.keras.preprocessing.image import ImageDataGenerator\n",
        "from tensorflow.keras.layers.experimental import preprocessing\n",
        "\n",
        "\n",
        "#datagen = ImageDataGenerator(horizontal_flip=True)\n",
        "\n",
        "# zca_whitening=True\n",
        "\n",
        "#datagen.fit(X_train, seed=42)"
      ],
      "execution_count": null,
      "outputs": []
    },
    {
      "cell_type": "code",
      "metadata": {
        "ExecuteTime": {
          "end_time": "2020-11-05T20:23:53.964787Z",
          "start_time": "2020-11-05T20:21:42.303435Z"
        },
        "id": "pVL_oo-lrA1Q",
        "scrolled": false,
        "outputId": "0918f3bd-46fb-424f-9ddf-28489829deeb",
        "colab": {
          "base_uri": "https://localhost:8080/"
        }
      },
      "source": [
        "from tensorflow.keras.layers import Conv2D, MaxPool2D\n",
        "cnn = Sequential()\n",
        "# Upsampling our input images due to their low resolution to enable or model to detect more patterns\n",
        "#cnn.add(tf.keras.layers.UpSampling2D(size=(2,2)))\n",
        "\n",
        "# data augumentation\n",
        "cnn.add(preprocessing.RandomFlip('horizontal')) # flip left to right\n",
        "#cnn.add(preprocessing.RandomContrast(0.5)) # contrast change by up to 50%\n",
        "\n",
        "# convolution layer\n",
        "cnn.add(Conv2D(filters=32, kernel_size=(3, 3), activation='relu',\n",
        "               padding='same', input_shape=(32, 32, 3)))\n",
        "cnn.add(MaxPool2D((2, 2)))\n",
        "\n",
        "cnn.add(Conv2D(filters=32, kernel_size=(3, 3),\n",
        "               activation='relu', padding='same'))\n",
        "cnn.add(MaxPool2D((2, 2)))\n",
        "\n",
        "cnn.add(Conv2D(filters=64, kernel_size=(3, 3),\n",
        "               activation='relu', padding='same'))\n",
        "cnn.add(MaxPool2D((2, 2)))\n",
        "\n",
        "# DNN classifier layer\n",
        "cnn.add(Flatten())\n",
        "cnn.add(Dense(512, activation='relu'))\n",
        "cnn.add(Dropout(0.2))\n",
        "\n",
        "cnn.add(Dense(256, activation='relu'))\n",
        "cnn.add(Dropout(0.2))\n",
        "\n",
        "# cnn.add(BatchNormalization())\n",
        "\n",
        "cnn.add(Dense(10, activation='softmax'))\n",
        "\n",
        "#print(cnn.summary())\n",
        "\n",
        "cnn.compile(loss='categorical_crossentropy',\n",
        "            optimizer='adam', metrics=['accuracy'])\n",
        "\n",
        "#callback = []\n",
        "def decay(epoch):\n",
        "    \"\"\" This method create the alpha\"\"\"\n",
        "    return 0.001 / (1 + 1 * 30)\n",
        "\n",
        "#callback += [tf.keras.callbacks.LearningRateScheduler(decay, verbose=1)]\n",
        "#callback += [tf.keras.callbacks.ModelCheckpoint('cifar10.h5', save_best_only=True, mode='min')]\n",
        "\n",
        "callback = [tf.keras.callbacks.EarlyStopping(patience=5, monitor='val_loss')]\n",
        "cnn.fit(X_train, y_train, validation_data=(X_val, y_val), callbacks=callback, epochs=40, batch_size=128)"
      ],
      "execution_count": 17,
      "outputs": [
        {
          "output_type": "stream",
          "text": [
            "Epoch 1/40\n",
            "352/352 [==============================] - 3s 8ms/step - loss: 1.5934 - accuracy: 0.4156 - val_loss: 1.2854 - val_accuracy: 0.5452\n",
            "Epoch 2/40\n",
            "352/352 [==============================] - 3s 7ms/step - loss: 1.2017 - accuracy: 0.5695 - val_loss: 1.0616 - val_accuracy: 0.6224\n",
            "Epoch 3/40\n",
            "352/352 [==============================] - 3s 7ms/step - loss: 1.0189 - accuracy: 0.6394 - val_loss: 0.9447 - val_accuracy: 0.6720\n",
            "Epoch 4/40\n",
            "352/352 [==============================] - 3s 7ms/step - loss: 0.9095 - accuracy: 0.6820 - val_loss: 0.8568 - val_accuracy: 0.6968\n",
            "Epoch 5/40\n",
            "352/352 [==============================] - 3s 7ms/step - loss: 0.8379 - accuracy: 0.7080 - val_loss: 0.8396 - val_accuracy: 0.7014\n",
            "Epoch 6/40\n",
            "352/352 [==============================] - 3s 7ms/step - loss: 0.7649 - accuracy: 0.7322 - val_loss: 0.7603 - val_accuracy: 0.7270\n",
            "Epoch 7/40\n",
            "352/352 [==============================] - 3s 7ms/step - loss: 0.7203 - accuracy: 0.7489 - val_loss: 0.7447 - val_accuracy: 0.7412\n",
            "Epoch 8/40\n",
            "352/352 [==============================] - 3s 7ms/step - loss: 0.6760 - accuracy: 0.7633 - val_loss: 0.7021 - val_accuracy: 0.7564\n",
            "Epoch 9/40\n",
            "352/352 [==============================] - 3s 7ms/step - loss: 0.6287 - accuracy: 0.7801 - val_loss: 0.7126 - val_accuracy: 0.7586\n",
            "Epoch 10/40\n",
            "352/352 [==============================] - 3s 7ms/step - loss: 0.5973 - accuracy: 0.7906 - val_loss: 0.6950 - val_accuracy: 0.7586\n",
            "Epoch 11/40\n",
            "352/352 [==============================] - 3s 7ms/step - loss: 0.5630 - accuracy: 0.8028 - val_loss: 0.6796 - val_accuracy: 0.7704\n",
            "Epoch 12/40\n",
            "352/352 [==============================] - 3s 7ms/step - loss: 0.5425 - accuracy: 0.8114 - val_loss: 0.6845 - val_accuracy: 0.7684\n",
            "Epoch 13/40\n",
            "352/352 [==============================] - 3s 7ms/step - loss: 0.5120 - accuracy: 0.8212 - val_loss: 0.6594 - val_accuracy: 0.7776\n",
            "Epoch 14/40\n",
            "352/352 [==============================] - 3s 8ms/step - loss: 0.4750 - accuracy: 0.8334 - val_loss: 0.7333 - val_accuracy: 0.7686\n",
            "Epoch 15/40\n",
            "352/352 [==============================] - 3s 8ms/step - loss: 0.4626 - accuracy: 0.8378 - val_loss: 0.6728 - val_accuracy: 0.7778\n",
            "Epoch 16/40\n",
            "352/352 [==============================] - 3s 8ms/step - loss: 0.4398 - accuracy: 0.8462 - val_loss: 0.6938 - val_accuracy: 0.7784\n",
            "Epoch 17/40\n",
            "352/352 [==============================] - 3s 8ms/step - loss: 0.4070 - accuracy: 0.8578 - val_loss: 0.7087 - val_accuracy: 0.7726\n",
            "Epoch 18/40\n",
            "352/352 [==============================] - 3s 8ms/step - loss: 0.3909 - accuracy: 0.8627 - val_loss: 0.6919 - val_accuracy: 0.7758\n"
          ],
          "name": "stdout"
        },
        {
          "output_type": "execute_result",
          "data": {
            "text/plain": [
              "<tensorflow.python.keras.callbacks.History at 0x7fa39411e780>"
            ]
          },
          "metadata": {
            "tags": []
          },
          "execution_count": 17
        }
      ]
    },
    {
      "cell_type": "code",
      "metadata": {
        "ExecuteTime": {
          "end_time": "2020-11-02T12:19:50.605888Z",
          "start_time": "2020-11-02T12:19:48.375469Z"
        },
        "id": "wX7_OYkwrA1U",
        "outputId": "b9bfb04d-1ac0-4caa-89d7-8b86249b171c",
        "colab": {
          "base_uri": "https://localhost:8080/"
        }
      },
      "source": [
        "cnn.evaluate(X_test, y_test)"
      ],
      "execution_count": 18,
      "outputs": [
        {
          "output_type": "stream",
          "text": [
            "313/313 [==============================] - 1s 3ms/step - loss: 0.6904 - accuracy: 0.7812\n"
          ],
          "name": "stdout"
        },
        {
          "output_type": "execute_result",
          "data": {
            "text/plain": [
              "[0.6904495358467102, 0.7811999917030334]"
            ]
          },
          "metadata": {
            "tags": []
          },
          "execution_count": 18
        }
      ]
    },
    {
      "cell_type": "markdown",
      "metadata": {
        "id": "87LNFYx5rA1Z"
      },
      "source": [
        "## Results \n",
        "- with same padding, Accuracy: 0.7498 , loss: 1.1980 without data augumentation\n",
        "- with data augumentation, Accuracy: 0.7811999"
      ]
    },
    {
      "cell_type": "code",
      "metadata": {
        "ExecuteTime": {
          "end_time": "2020-11-02T11:24:01.648518Z",
          "start_time": "2020-11-02T11:23:59.898784Z"
        },
        "id": "kSlRb1QQrA1b",
        "outputId": "6caaf2be-c4a8-4c78-c5ba-4818102cb21a",
        "colab": {
          "base_uri": "https://localhost:8080/"
        }
      },
      "source": [
        "#pred = cnn.predict(X_test)\n",
        "#pred\n",
        "\n",
        "y_test"
      ],
      "execution_count": null,
      "outputs": [
        {
          "output_type": "execute_result",
          "data": {
            "text/plain": [
              "array([[0., 0., 0., ..., 0., 0., 0.],\n",
              "       [0., 0., 0., ..., 0., 1., 0.],\n",
              "       [0., 0., 0., ..., 0., 1., 0.],\n",
              "       ...,\n",
              "       [0., 0., 0., ..., 0., 0., 0.],\n",
              "       [0., 1., 0., ..., 0., 0., 0.],\n",
              "       [0., 0., 0., ..., 1., 0., 0.]], dtype=float32)"
            ]
          },
          "metadata": {
            "tags": []
          },
          "execution_count": 30
        }
      ]
    },
    {
      "cell_type": "code",
      "metadata": {
        "ExecuteTime": {
          "end_time": "2020-11-02T11:25:26.813882Z",
          "start_time": "2020-11-02T11:25:25.353659Z"
        },
        "id": "dTOfLxxHrA1f",
        "outputId": "2ac6a6de-4de7-4ca8-b117-bdda793b41d5",
        "colab": {
          "base_uri": "https://localhost:8080/"
        }
      },
      "source": [
        "pred1 = cnn.predict(X_test)\n",
        "\n",
        "y_test = [np.argmax(x) for x in y_test]\n",
        "pred1 = [np.argmax(x) for x in pred1]\n",
        "print(classification_report(y_test, pred1))\n",
        "print('\\n')\n",
        "print(confusion_matrix(y_test, pred1))"
      ],
      "execution_count": null,
      "outputs": [
        {
          "output_type": "stream",
          "text": [
            "              precision    recall  f1-score   support\n",
            "\n",
            "           0       0.82      0.80      0.81      1000\n",
            "           1       0.86      0.89      0.87      1000\n",
            "           2       0.74      0.63      0.68      1000\n",
            "           3       0.56      0.59      0.57      1000\n",
            "           4       0.69      0.77      0.72      1000\n",
            "           5       0.64      0.68      0.66      1000\n",
            "           6       0.78      0.82      0.80      1000\n",
            "           7       0.82      0.79      0.80      1000\n",
            "           8       0.88      0.85      0.87      1000\n",
            "           9       0.86      0.82      0.84      1000\n",
            "\n",
            "    accuracy                           0.76     10000\n",
            "   macro avg       0.77      0.76      0.76     10000\n",
            "weighted avg       0.77      0.76      0.76     10000\n",
            "\n",
            "\n",
            "\n",
            "[[799  21  36  24  28   7   7  14  36  28]\n",
            " [ 10 885   8  10   5   2   8   2  25  45]\n",
            " [ 55   7 629  66  89  66  53  23   7   5]\n",
            " [ 12   3  37 589  73 170  63  31   9  13]\n",
            " [ 16   3  43  54 765  32  43  35   4   5]\n",
            " [ 10   0  25 164  37 681  32  41   4   6]\n",
            " [  4   1  35  63  30  34 817   8   6   2]\n",
            " [ 10   2  16  43  74  52   7 788   1   7]\n",
            " [ 53  26  11  22   4   6  10   4 846  18]\n",
            " [ 11  87   9  21   8   9   5  13  18 819]]\n"
          ],
          "name": "stdout"
        }
      ]
    },
    {
      "cell_type": "markdown",
      "metadata": {
        "id": "IXjjQPM2rA1i"
      },
      "source": [
        "## What i noticed is that our cnn classifier performed much better than our ann classifier(71 percent vs 48 percent accuracy). It also performed better on certain image classes and less on others\n",
        "- It performed best on image class 1 (automobile)\n",
        "- it performed performed the least on image class 3 (cat)\n",
        "\n",
        "Comparing the two models,  they both performed well on class 8(ship) and poorly on class 3(cat)"
      ]
    },
    {
      "cell_type": "markdown",
      "metadata": {
        "id": "unJbLyU-rA1j"
      },
      "source": [
        "# Using transfer learning with VGG16 model"
      ]
    },
    {
      "cell_type": "code",
      "metadata": {
        "ExecuteTime": {
          "end_time": "2020-11-05T17:58:08.561870Z",
          "start_time": "2020-11-05T17:58:00.930063Z"
        },
        "id": "CwSB6lHprA1j",
        "outputId": "59d34927-37d5-4073-8725-5a8c0868e943",
        "colab": {
          "base_uri": "https://localhost:8080/"
        }
      },
      "source": [
        "# Reload the data\n",
        "\n",
        "#X_train, y_train, y_train_oh = load_train_data()\n",
        "#X_test, y_test, y_test_oh = load_test_data()\n",
        "\n",
        "(X_train, y_train), (X_test, y_test) = datasets.cifar10.load_data()\n",
        "\n",
        "# Preprocess the data\n",
        "\n",
        "def preprocess(X, y):\n",
        "    X = X.astype('float32')\n",
        "    #using preprocess VGG16 method by default to scale images and their values\n",
        "    X = preprocess_input(X)\n",
        "    # changind labels to one-hot representation\n",
        "    y = tf.keras.utils.to_categorical(y, 10)\n",
        "    return (X, y)\n",
        "\n",
        "X_train, y_train = preprocess(X_train, y_train)\n",
        "X_test, y_test = preprocess(X_test, y_test)\n",
        "\n",
        "ss = StratifiedShuffleSplit(n_splits=1, test_size=0.1, random_state=42)\n",
        "\n",
        "for train_index, test_index in ss.split(X_train, y_train):\n",
        "    X_train, X_val = X_train[train_index], X_train[test_index]\n",
        "    y_train, y_val = y_train[train_index], y_train[test_index]\n",
        "\n",
        "y_test.shape"
      ],
      "execution_count": null,
      "outputs": [
        {
          "output_type": "execute_result",
          "data": {
            "text/plain": [
              "(10000, 10)"
            ]
          },
          "metadata": {
            "tags": []
          },
          "execution_count": 25
        }
      ]
    },
    {
      "cell_type": "code",
      "metadata": {
        "ExecuteTime": {
          "end_time": "2020-11-05T17:57:56.179711Z",
          "start_time": "2020-11-05T17:57:49.465242Z"
        },
        "id": "PWtHDzrcrA1m",
        "outputId": "381a80a1-e1ab-47c3-bc62-0cd8e9db3183",
        "colab": {
          "base_uri": "https://localhost:8080/"
        }
      },
      "source": [
        "# load the base of vgg16\n",
        "\n",
        "pt_base = tf.keras.applications.vgg16.VGG16(\n",
        "    include_top=False, weights='imagenet', pooling='max', input_shape=(32, 32, 3))\n",
        "\n",
        "#pt_base.trainable = False"
      ],
      "execution_count": 19,
      "outputs": [
        {
          "output_type": "stream",
          "text": [
            "Downloading data from https://storage.googleapis.com/tensorflow/keras-applications/vgg16/vgg16_weights_tf_dim_ordering_tf_kernels_notop.h5\n",
            "58892288/58889256 [==============================] - 1s 0us/step\n"
          ],
          "name": "stdout"
        }
      ]
    },
    {
      "cell_type": "code",
      "metadata": {
        "ExecuteTime": {
          "end_time": "2020-11-05T19:49:41.295008Z",
          "start_time": "2020-11-05T19:26:39.872399Z"
        },
        "id": "3YzvaL7PrA1r",
        "scrolled": false,
        "outputId": "c6ad2517-f92a-424a-8818-63013ea447f1",
        "colab": {
          "base_uri": "https://localhost:8080/"
        }
      },
      "source": [
        "# attach the head\n",
        "\n",
        "tf_model = Sequential()\n",
        "# Upsampling our images\n",
        "tf_model.add(tf.keras.layers.UpSampling2D(size=(2,2)))\n",
        "#tf_model.add(tf.keras.layers.Conv2DTranspose(3, (3,3),strides=(2,2), padding='same'))\n",
        "\n",
        "# data augumentation\n",
        "tf_model.add(preprocessing.RandomFlip('horizontal')) # flip left to right\n",
        "tf_model.add(preprocessing.RandomContrast(0.5)) # contrast change by up to 50%\n",
        "\n",
        "tf_model.add(pt_base)\n",
        "\n",
        "tf_model.add(Flatten())\n",
        "\n",
        "tf_model.add(Dense(512, activation='relu'))\n",
        "tf_model.add(Dropout(0.2))\n",
        "#tf_model.add(BatchNormalization())\n",
        "\n",
        "tf_model.add(Dense(256, activation='relu'))\n",
        "tf_model.add(Dropout(0.2))\n",
        "#tf_model.add(BatchNormalization())\n",
        "\n",
        "tf_model.add(Dense(10, activation='softmax'))\n",
        "\n",
        "#print(tf_model.summary())\n",
        "\n",
        "tf_model.compile(loss='categorical_crossentropy', optimizer='adam', metrics=['accuracy'])\n",
        "\n",
        "callback = []\n",
        "def decay(epoch):\n",
        "    \"\"\" This method create the alpha\"\"\"\n",
        "    return 0.001 / (1 + 1 * 30)\n",
        "\n",
        "callback += [tf.keras.callbacks.LearningRateScheduler(decay, verbose=1)]\n",
        "callback += [tf.keras.callbacks.ModelCheckpoint('cifar10.h5', save_best_only=True, mode='min')]\n",
        "\n",
        "#callback += [tf.keras.callbacks.EarlyStopping(patience=5, monitor='val_loss')]\n",
        "\n",
        "\n",
        "tf_model.fit(X_train, y_train, validation_data=(X_val, y_val), callbacks=callback, epochs=2, batch_size=128)"
      ],
      "execution_count": 26,
      "outputs": [
        {
          "output_type": "stream",
          "text": [
            "\n",
            "Epoch 00001: LearningRateScheduler reducing learning rate to 3.2258064516129034e-05.\n",
            "Epoch 1/2\n",
            "WARNING:tensorflow:Model was constructed with shape (None, 32, 32, 3) for input Tensor(\"input_1:0\", shape=(None, 32, 32, 3), dtype=float32), but it was called on an input with incompatible shape (None, 64, 64, 3).\n",
            "WARNING:tensorflow:Model was constructed with shape (None, 32, 32, 3) for input Tensor(\"input_1:0\", shape=(None, 32, 32, 3), dtype=float32), but it was called on an input with incompatible shape (None, 64, 64, 3).\n",
            "WARNING:tensorflow:Model was constructed with shape (None, 32, 32, 3) for input Tensor(\"input_1:0\", shape=(None, 32, 32, 3), dtype=float32), but it was called on an input with incompatible shape (None, 64, 64, 3).\n",
            "  2/352 [..............................] - ETA: 44s - loss: 2.8875 - accuracy: 0.0938WARNING:tensorflow:Callbacks method `on_train_batch_end` is slow compared to the batch time (batch time: 0.0848s vs `on_train_batch_end` time: 0.1710s). Check your callbacks.\n",
            "352/352 [==============================] - ETA: 0s - loss: 0.1236 - accuracy: 0.9620WARNING:tensorflow:Model was constructed with shape (None, 32, 32, 3) for input Tensor(\"input_1:0\", shape=(None, 32, 32, 3), dtype=float32), but it was called on an input with incompatible shape (None, 64, 64, 3).\n",
            "352/352 [==============================] - 99s 280ms/step - loss: 0.1236 - accuracy: 0.9620 - val_loss: 0.3467 - val_accuracy: 0.9256\n",
            "\n",
            "Epoch 00002: LearningRateScheduler reducing learning rate to 3.2258064516129034e-05.\n",
            "Epoch 2/2\n",
            "352/352 [==============================] - 100s 283ms/step - loss: 0.0201 - accuracy: 0.9939 - val_loss: 0.3308 - val_accuracy: 0.9318\n"
          ],
          "name": "stdout"
        },
        {
          "output_type": "execute_result",
          "data": {
            "text/plain": [
              "<tensorflow.python.keras.callbacks.History at 0x7fa336361f28>"
            ]
          },
          "metadata": {
            "tags": []
          },
          "execution_count": 26
        }
      ]
    },
    {
      "cell_type": "code",
      "metadata": {
        "ExecuteTime": {
          "end_time": "2020-11-05T19:58:41.005362Z",
          "start_time": "2020-11-05T19:58:04.291805Z"
        },
        "id": "8geXMvxQrA1w",
        "outputId": "ccdd4d97-95aa-4c6c-88dc-c1f9a05d1cdb",
        "colab": {
          "base_uri": "https://localhost:8080/"
        }
      },
      "source": [
        "tf_model.evaluate(X_test, y_test)"
      ],
      "execution_count": 27,
      "outputs": [
        {
          "output_type": "stream",
          "text": [
            "313/313 [==============================] - 8s 25ms/step - loss: 0.3663 - accuracy: 0.9240\n"
          ],
          "name": "stdout"
        },
        {
          "output_type": "execute_result",
          "data": {
            "text/plain": [
              "[0.366346150636673, 0.9240000247955322]"
            ]
          },
          "metadata": {
            "tags": []
          },
          "execution_count": 27
        }
      ]
    },
    {
      "cell_type": "markdown",
      "metadata": {
        "id": "h7716i9HrA1z"
      },
      "source": [
        "# Result\n",
        "- using a pretrained base - accuracy: 0.9240, loss: 0.3663\n",
        "- using an untrained base - accuracy: 0.80, loss: 0.80"
      ]
    },
    {
      "cell_type": "code",
      "metadata": {
        "ExecuteTime": {
          "end_time": "2020-11-05T19:59:44.027109Z",
          "start_time": "2020-11-05T19:59:07.455696Z"
        },
        "id": "RrxqVctWrA10",
        "outputId": "aacf7b81-a786-4909-fa39-4af208c26dc2",
        "colab": {
          "base_uri": "https://localhost:8080/"
        }
      },
      "source": [
        "pred2 = tf_model.predict(X_test)\n",
        "\n",
        "pred2 = [np.argmax(x) for x in pred2]\n",
        "y_test = [np.argmax(x) for x in y_test]\n",
        "\n",
        "print(classification_report(y_test, pred2))\n",
        "print('\\n')\n",
        "print(confusion_matrix(y_test, pred2))"
      ],
      "execution_count": 28,
      "outputs": [
        {
          "output_type": "stream",
          "text": [
            "WARNING:tensorflow:Model was constructed with shape (None, 32, 32, 3) for input Tensor(\"input_1:0\", shape=(None, 32, 32, 3), dtype=float32), but it was called on an input with incompatible shape (None, 64, 64, 3).\n",
            "              precision    recall  f1-score   support\n",
            "\n",
            "           0       0.91      0.96      0.93      1000\n",
            "           1       0.94      0.97      0.95      1000\n",
            "           2       0.91      0.92      0.92      1000\n",
            "           3       0.83      0.87      0.85      1000\n",
            "           4       0.95      0.91      0.93      1000\n",
            "           5       0.93      0.79      0.86      1000\n",
            "           6       0.92      0.97      0.94      1000\n",
            "           7       0.96      0.95      0.96      1000\n",
            "           8       0.95      0.96      0.96      1000\n",
            "           9       0.96      0.93      0.94      1000\n",
            "\n",
            "    accuracy                           0.92     10000\n",
            "   macro avg       0.92      0.92      0.92     10000\n",
            "weighted avg       0.92      0.92      0.92     10000\n",
            "\n",
            "\n",
            "\n",
            "[[958   2   6   1   0   0   0   2  27   4]\n",
            " [  5 972   0   0   0   0   0   0   4  19]\n",
            " [ 24   0 919  14  11   4  20   4   4   0]\n",
            " [ 12   3  15 872   9  38  34   8   5   4]\n",
            " [  8   2  27  18 909   8  14  12   2   0]\n",
            " [  4   2  19 134  14 794  13  16   0   4]\n",
            " [  4   1  10   8   4   1 969   2   0   1]\n",
            " [  9   1   7   6  14   7   1 955   0   0]\n",
            " [ 19   7   2   0   0   0   1   0 964   7]\n",
            " [ 11  46   0   2   0   0   2   0  11 928]]\n"
          ],
          "name": "stdout"
        }
      ]
    },
    {
      "cell_type": "markdown",
      "metadata": {
        "id": "zy89l7JrrA2A"
      },
      "source": [
        "# Things i learnt from this project\n",
        "- Data augumentation helps but doesnt have a huge impact on this dataset due to the low pixel resolution (1-3) percent increase\n",
        "- Running the model with a constant learning rate and a model checkpoint callback helped to improve the test accuracy score by 5 percent (from 80% to 85%)\n",
        "- Adding a 2D upsampling layer was the biggest contributor to the model accuracy, it accounted for a little above 7 test percent accuracy increase\n",
        "- Using a 2D upsampling layer gave better performance on this dataset compared to the Conv2D Transpose layer\n",
        "- DropOut regularization help to improve testing and validation accuracy by reducing overfitting\n",
        "- Increasing the 2d upsampling layer's size from (2,2) had no obvious effect on the models test accuracy score\n",
        "- Applying transfer learning by using a pretrained base gave us a lower accuracy score comparared to when the base was untrained (test accuracy in 70s vs test accuracy in 90s)\n",
        "- our Vgg16 (untrained) base with 2d upsampling, constant learning rate, data augumentation and model checkpoint callback gave the best result of 0.91 accuracy score for the cifar 10 dataset."
      ]
    },
    {
      "cell_type": "code",
      "metadata": {
        "id": "rRo02Mhf0HJe"
      },
      "source": [
        ""
      ],
      "execution_count": null,
      "outputs": []
    }
  ]
}