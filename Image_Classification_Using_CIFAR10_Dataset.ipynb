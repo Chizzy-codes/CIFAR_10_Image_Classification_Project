{
 "cells": [
  {
   "cell_type": "markdown",
   "metadata": {},
   "source": [
    "# Importing the needed libraries"
   ]
  },
  {
   "cell_type": "code",
   "execution_count": 1,
   "metadata": {
    "ExecuteTime": {
     "end_time": "2020-11-02T10:03:34.394982Z",
     "start_time": "2020-11-02T10:02:23.981967Z"
    }
   },
   "outputs": [],
   "source": [
    "import os\n",
    "import numpy as np\n",
    "import pandas as pd\n",
    "import matplotlib.pyplot as plt\n",
    "import seaborn as sns\n",
    "import pickle\n",
    "\n",
    "from sklearn.preprocessing import OneHotEncoder\n",
    "from sklearn.metrics import classification_report, confusion_matrix\n",
    "from tensorflow.keras.layers.experimental import preprocessing\n",
    "\n",
    "%matplotlib inline\n",
    "sns.set()"
   ]
  },
  {
   "cell_type": "markdown",
   "metadata": {
    "ExecuteTime": {
     "end_time": "2020-10-26T13:49:45.900384Z",
     "start_time": "2020-10-26T13:49:45.885385Z"
    }
   },
   "source": [
    "# The current state of the art performance for this dataset is 99 accuracy (GPipe: Efficient Training of Giant Neural Networks using pipeline parallelism)"
   ]
  },
  {
   "cell_type": "code",
   "execution_count": 2,
   "metadata": {
    "ExecuteTime": {
     "end_time": "2020-11-02T10:03:34.481458Z",
     "start_time": "2020-11-02T10:03:34.434377Z"
    }
   },
   "outputs": [],
   "source": [
    "import tensorflow as tf\n",
    "from tensorflow.keras.layers import Dense, BatchNormalization, Dropout, Flatten\n",
    "from tensorflow.keras.models import Sequential\n",
    "from tensorflow.keras import datasets\n",
    "from tensorflow.keras.applications.vgg16 import preprocess_input"
   ]
  },
  {
   "cell_type": "code",
   "execution_count": 3,
   "metadata": {
    "ExecuteTime": {
     "end_time": "2020-11-02T10:03:36.290054Z",
     "start_time": "2020-11-02T10:03:34.516465Z"
    }
   },
   "outputs": [
    {
     "name": "stdout",
     "output_type": "stream",
     "text": [
      "[name: \"/device:CPU:0\"\n",
      "device_type: \"CPU\"\n",
      "memory_limit: 268435456\n",
      "locality {\n",
      "}\n",
      "incarnation: 4684316816424207863\n",
      ", name: \"/device:GPU:0\"\n",
      "device_type: \"GPU\"\n",
      "memory_limit: 1416432436\n",
      "locality {\n",
      "  bus_id: 1\n",
      "  links {\n",
      "  }\n",
      "}\n",
      "incarnation: 2852806309567360068\n",
      "physical_device_desc: \"device: 0, name: GeForce MX150, pci bus id: 0000:01:00.0, compute capability: 6.1\"\n",
      "]\n"
     ]
    }
   ],
   "source": [
    "# Setting random seed for reproducible results\n",
    "\n",
    "from tensorflow.python.client import device_lib \n",
    "\n",
    "np.random.seed(42)\n",
    "tf.random.set_seed(42)\n",
    "os.environ['PYTHONHASHSEED'] = str(42)\n",
    "os.environ['TF_DETERMINISTIC_OPS'] = '1'\n",
    "\n",
    "print(device_lib.list_local_devices())"
   ]
  },
  {
   "cell_type": "markdown",
   "metadata": {},
   "source": [
    "# Importing the cifar 10 dataset\n",
    "- Data downloaded from https://www.cs.toronto.edu/~kriz/cifar.html"
   ]
  },
  {
   "cell_type": "code",
   "execution_count": 87,
   "metadata": {
    "ExecuteTime": {
     "end_time": "2020-11-02T12:06:00.462133Z",
     "start_time": "2020-11-02T12:06:00.430654Z"
    }
   },
   "outputs": [],
   "source": [
    "image_size = 32\n",
    "num_channels = 3\n",
    "image_size_flat = image_size * image_size * num_channels\n",
    "num_classes = 10\n",
    "train_files = 5\n",
    "image_per_file = 10000\n",
    "num_train_images = 50000\n",
    "\n",
    "# functions for processing raw cifar file from memory\n",
    "\n",
    "\n",
    "# change the raw data to float and normalize them by dividing by the highest pixel value 255\n",
    "def convert(raw):\n",
    "    raw_float = np.array(raw, dtype=float)\n",
    "    #reshape into 4 dimensions\n",
    "    images = raw_float.reshape(-1, num_channels, image_size, image_size)\n",
    "    # reorder image shape indices\n",
    "    images = images.transpose([0,2,3,1])\n",
    "    return images\n",
    "\n",
    "# load pickle files and return the images and class label\n",
    "def load(filename):\n",
    "    #load pickle files\n",
    "    with open(filename, 'rb') as f:\n",
    "        data = pickle.load(f, encoding='bytes')\n",
    "    \n",
    "    # get raw images and label\n",
    "    raw_images = data[b'data']\n",
    "    labels = np.array(data[b'labels'])\n",
    "    \n",
    "    # convert the images\n",
    "    images = convert(raw_images)\n",
    "    \n",
    "    return images, labels\n",
    "\n",
    "# load the name of the classes in the cifar-10 dataset\n",
    "def load_class_names():\n",
    "    with open('data/batches.meta', 'rb') as f:\n",
    "        raw = pickle.load(f, encoding='bytes')[b'label_names']\n",
    "    \n",
    "    # convert from binary strings to strings\n",
    "    names = [x.decode('utf-8') for x in raw]\n",
    "    \n",
    "    return names\n",
    "\n",
    "# Load all the 5 batch files of the cifar 10 dataset and combine them in a single training dataset\n",
    "def load_train_data():\n",
    "    # create placeholder image and label arrays\n",
    "    images = np.zeros(shape=[num_train_images, image_size, image_size, num_channels], dtype='float')\n",
    "    labels = np.zeros(shape=[num_train_images], dtype='int')\n",
    "    \n",
    "    # begin index for the current batch\n",
    "    begin = 0\n",
    "    \n",
    "    # for each data file\n",
    "    for i in range(train_files):\n",
    "        # load images and labels\n",
    "        image_batch, label_batch = load('data/data_batch_' + str(i+1))\n",
    "        \n",
    "        # number of images for this batch\n",
    "        num_images = len(image_batch)\n",
    "        \n",
    "        # End-index for the current batch\n",
    "        end = begin + num_images\n",
    "        \n",
    "        # store images in an array\n",
    "        images[begin:end, :] = image_batch\n",
    "        \n",
    "        # store the labels in an array\n",
    "        labels[begin:end] = label_batch\n",
    "        \n",
    "        # the begin index is for the next batch is the current end-index\n",
    "        begin = end\n",
    "        \n",
    "    return images, labels, OneHotEncoder(sparse=False).fit_transform(labels.reshape(-1, 1))\n",
    "\n",
    "\n",
    "# load test data\n",
    "def load_test_data():\n",
    "    images, labels = load('data/test_batch')\n",
    "    \n",
    "    return images, labels, OneHotEncoder(sparse=False).fit_transform(labels.reshape(-1, 1))        "
   ]
  },
  {
   "cell_type": "code",
   "execution_count": 88,
   "metadata": {
    "ExecuteTime": {
     "end_time": "2020-11-02T12:06:02.999429Z",
     "start_time": "2020-11-02T12:06:01.367103Z"
    }
   },
   "outputs": [],
   "source": [
    "# load data\n",
    "\n",
    "X_train, y_train, y_train_oh = load_train_data()\n",
    "X_test, y_test, y_test_oh = load_test_data()\n",
    "classes = load_class_names()"
   ]
  },
  {
   "cell_type": "code",
   "execution_count": 83,
   "metadata": {
    "ExecuteTime": {
     "end_time": "2020-11-02T11:58:49.267889Z",
     "start_time": "2020-11-02T11:58:49.255889Z"
    }
   },
   "outputs": [
    {
     "data": {
      "text/plain": [
       "((50000, 32, 32, 3), (10000, 32, 32, 3))"
      ]
     },
     "execution_count": 83,
     "metadata": {},
     "output_type": "execute_result"
    }
   ],
   "source": [
    "X_train.shape, X_test.shape"
   ]
  },
  {
   "cell_type": "code",
   "execution_count": 7,
   "metadata": {
    "ExecuteTime": {
     "end_time": "2020-11-02T10:13:12.452997Z",
     "start_time": "2020-11-02T10:13:12.393996Z"
    }
   },
   "outputs": [],
   "source": [
    "# Alternatively\n",
    "\n",
    "#(X_train, y_train), (X_test, y_test) = datasets.cifar10.load_data()"
   ]
  },
  {
   "cell_type": "code",
   "execution_count": 8,
   "metadata": {
    "ExecuteTime": {
     "end_time": "2020-11-02T10:13:12.561992Z",
     "start_time": "2020-11-02T10:13:12.549997Z"
    }
   },
   "outputs": [
    {
     "data": {
      "text/plain": [
       "array([6, 9, 9, ..., 9, 1, 1])"
      ]
     },
     "execution_count": 8,
     "metadata": {},
     "output_type": "execute_result"
    }
   ],
   "source": [
    "y_train"
   ]
  },
  {
   "cell_type": "code",
   "execution_count": 9,
   "metadata": {
    "ExecuteTime": {
     "end_time": "2020-11-02T10:13:12.765420Z",
     "start_time": "2020-11-02T10:13:12.691996Z"
    }
   },
   "outputs": [
    {
     "data": {
      "text/plain": [
       "((50000,), (50000, 10))"
      ]
     },
     "execution_count": 9,
     "metadata": {},
     "output_type": "execute_result"
    }
   ],
   "source": [
    "y_train.shape, y_train_oh.shape"
   ]
  },
  {
   "cell_type": "code",
   "execution_count": 10,
   "metadata": {
    "ExecuteTime": {
     "end_time": "2020-11-02T10:13:20.570389Z",
     "start_time": "2020-11-02T10:13:12.865422Z"
    }
   },
   "outputs": [
    {
     "data": {
      "text/plain": [
       "<matplotlib.image.AxesImage at 0x20f486d58c8>"
      ]
     },
     "execution_count": 10,
     "metadata": {},
     "output_type": "execute_result"
    },
    {
     "data": {
      "image/png": "[encoded data removed]",
      "text/plain": [
       "<Figure size 432x288 with 1 Axes>"
      ]
     },
     "metadata": {
      "needs_background": "light"
     },
     "output_type": "display_data"
    }
   ],
   "source": [
    "x = X_train.copy()/255\n",
    "\n",
    "plt.imshow(x[7])"
   ]
  },
  {
   "cell_type": "code",
   "execution_count": 11,
   "metadata": {
    "ExecuteTime": {
     "end_time": "2020-11-02T10:13:20.712092Z",
     "start_time": "2020-11-02T10:13:20.699064Z"
    }
   },
   "outputs": [
    {
     "data": {
      "text/plain": [
       "(50000,)"
      ]
     },
     "execution_count": 11,
     "metadata": {},
     "output_type": "execute_result"
    }
   ],
   "source": [
    "y_train.shape"
   ]
  },
  {
   "cell_type": "code",
   "execution_count": 12,
   "metadata": {
    "ExecuteTime": {
     "end_time": "2020-11-02T10:13:20.979057Z",
     "start_time": "2020-11-02T10:13:20.809059Z"
    }
   },
   "outputs": [
    {
     "data": {
      "text/plain": [
       "1"
      ]
     },
     "execution_count": 12,
     "metadata": {},
     "output_type": "execute_result"
    }
   ],
   "source": [
    "y_train[4]"
   ]
  },
  {
   "cell_type": "code",
   "execution_count": 13,
   "metadata": {
    "ExecuteTime": {
     "end_time": "2020-11-02T10:13:21.183146Z",
     "start_time": "2020-11-02T10:13:21.119433Z"
    }
   },
   "outputs": [],
   "source": [
    "# Reshaping y_train, and y_test\n",
    "y_train1 = y_train.reshape(-1,)\n"
   ]
  },
  {
   "cell_type": "code",
   "execution_count": 14,
   "metadata": {
    "ExecuteTime": {
     "end_time": "2020-11-02T10:13:21.793299Z",
     "start_time": "2020-11-02T10:13:21.311107Z"
    }
   },
   "outputs": [
    {
     "name": "stdout",
     "output_type": "stream",
     "text": [
      "deer\n"
     ]
    },
    {
     "data": {
      "text/plain": [
       "<matplotlib.image.AxesImage at 0x20f48bf7588>"
      ]
     },
     "execution_count": 14,
     "metadata": {},
     "output_type": "execute_result"
    },
    {
     "data": {
      "image/png": "[encoded data removed]",
      "text/plain": [
       "<Figure size 432x288 with 1 Axes>"
      ]
     },
     "metadata": {
      "needs_background": "light"
     },
     "output_type": "display_data"
    }
   ],
   "source": [
    "print(classes[y_train[3]])\n",
    "plt.imshow(x[3])"
   ]
  },
  {
   "cell_type": "markdown",
   "metadata": {},
   "source": [
    "# After investigating the images,  we can say that the images would benefit from horizontal flip and random brightness data augmentations"
   ]
  },
  {
   "cell_type": "code",
   "execution_count": 89,
   "metadata": {
    "ExecuteTime": {
     "end_time": "2020-11-02T12:06:08.541612Z",
     "start_time": "2020-11-02T12:06:07.803871Z"
    }
   },
   "outputs": [],
   "source": [
    "# Normalising the values by dividing by the maximum pixel value (255) if you loaded data from tensorflow library\n",
    "\n",
    "X_train =  X_train/255\n",
    "X_test = X_test/255\n"
   ]
  },
  {
   "cell_type": "markdown",
   "metadata": {},
   "source": [
    "## Use sklearn split the training data into train / validate datasets"
   ]
  },
  {
   "cell_type": "code",
   "execution_count": 90,
   "metadata": {
    "ExecuteTime": {
     "end_time": "2020-11-02T12:06:09.821724Z",
     "start_time": "2020-11-02T12:06:08.672645Z"
    }
   },
   "outputs": [],
   "source": [
    "from sklearn.model_selection import StratifiedShuffleSplit\n",
    "\n",
    "ss = StratifiedShuffleSplit(n_splits=1, test_size=0.1, random_state=42)\n",
    "\n",
    "for train_index, test_index in ss.split(X_train, y_train_oh):\n",
    "    X_train, X_val = X_train[train_index], X_train[test_index]\n",
    "    y_train, y_val = y_train_oh[train_index], y_train_oh[test_index]"
   ]
  },
  {
   "cell_type": "code",
   "execution_count": 91,
   "metadata": {
    "ExecuteTime": {
     "end_time": "2020-11-02T12:06:11.343438Z",
     "start_time": "2020-11-02T12:06:11.332482Z"
    }
   },
   "outputs": [
    {
     "data": {
      "text/plain": [
       "((45000, 32, 32, 3), (5000, 32, 32, 3), (45000, 10), (5000, 10))"
      ]
     },
     "execution_count": 91,
     "metadata": {},
     "output_type": "execute_result"
    }
   ],
   "source": [
    "X_train.shape, X_val.shape, y_train.shape, y_val.shape"
   ]
  },
  {
   "cell_type": "markdown",
   "metadata": {
    "ExecuteTime": {
     "end_time": "2020-10-30T12:12:48.297330Z",
     "start_time": "2020-10-30T12:12:48.225331Z"
    }
   },
   "source": [
    "### use the X_val and y_val as validation data"
   ]
  },
  {
   "cell_type": "markdown",
   "metadata": {},
   "source": [
    "# Training models on the train and test data"
   ]
  },
  {
   "cell_type": "markdown",
   "metadata": {},
   "source": [
    "## Using an Artificial Neural Network"
   ]
  },
  {
   "cell_type": "code",
   "execution_count": 92,
   "metadata": {
    "ExecuteTime": {
     "end_time": "2020-11-02T12:10:52.880816Z",
     "start_time": "2020-11-02T12:06:20.965087Z"
    }
   },
   "outputs": [
    {
     "name": "stdout",
     "output_type": "stream",
     "text": [
      "Model: \"sequential_16\"\n",
      "_________________________________________________________________\n",
      "Layer (type)                 Output Shape              Param #   \n",
      "=================================================================\n",
      "flatten_16 (Flatten)         (None, 3072)              0         \n",
      "_________________________________________________________________\n",
      "dense_52 (Dense)             (None, 3072)              9440256   \n",
      "_________________________________________________________________\n",
      "dense_53 (Dense)             (None, 1024)              3146752   \n",
      "_________________________________________________________________\n",
      "dense_54 (Dense)             (None, 10)                10250     \n",
      "=================================================================\n",
      "Total params: 12,597,258\n",
      "Trainable params: 12,597,258\n",
      "Non-trainable params: 0\n",
      "_________________________________________________________________\n",
      "None\n",
      "Train on 45000 samples, validate on 5000 samples\n",
      "Epoch 1/40\n",
      "45000/45000 [==============================] - 19s 429us/sample - loss: 1.8733 - accuracy: 0.3294 - val_loss: 2.2020 - val_accuracy: 0.2298\n",
      "Epoch 2/40\n",
      "45000/45000 [==============================] - 19s 426us/sample - loss: 1.6728 - accuracy: 0.4060 - val_loss: 1.8553 - val_accuracy: 0.3388\n",
      "Epoch 3/40\n",
      "45000/45000 [==============================] - 19s 430us/sample - loss: 1.5845 - accuracy: 0.4387 - val_loss: 1.6614 - val_accuracy: 0.4108\n",
      "Epoch 4/40\n",
      "45000/45000 [==============================] - 19s 430us/sample - loss: 1.5239 - accuracy: 0.4603 - val_loss: 1.6722 - val_accuracy: 0.3964\n",
      "Epoch 5/40\n",
      "45000/45000 [==============================] - 19s 430us/sample - loss: 1.4780 - accuracy: 0.4775 - val_loss: 1.5599 - val_accuracy: 0.4362\n",
      "Epoch 6/40\n",
      "45000/45000 [==============================] - 19s 430us/sample - loss: 1.4316 - accuracy: 0.4939 - val_loss: 1.5354 - val_accuracy: 0.4626\n",
      "Epoch 7/40\n",
      "45000/45000 [==============================] - 19s 430us/sample - loss: 1.3909 - accuracy: 0.5100 - val_loss: 1.5613 - val_accuracy: 0.4490\n",
      "Epoch 8/40\n",
      "45000/45000 [==============================] - 20s 436us/sample - loss: 1.3552 - accuracy: 0.5223 - val_loss: 1.6284 - val_accuracy: 0.4300\n",
      "Epoch 9/40\n",
      "45000/45000 [==============================] - 20s 434us/sample - loss: 1.3226 - accuracy: 0.5357 - val_loss: 1.4824 - val_accuracy: 0.4712\n",
      "Epoch 10/40\n",
      "45000/45000 [==============================] - 19s 430us/sample - loss: 1.2941 - accuracy: 0.5451 - val_loss: 1.8873 - val_accuracy: 0.3846\n",
      "Epoch 11/40\n",
      "45000/45000 [==============================] - 19s 430us/sample - loss: 1.2647 - accuracy: 0.5543 - val_loss: 1.5009 - val_accuracy: 0.4758\n",
      "Epoch 12/40\n",
      "45000/45000 [==============================] - 20s 435us/sample - loss: 1.2324 - accuracy: 0.5679 - val_loss: 1.9744 - val_accuracy: 0.3654\n",
      "Epoch 13/40\n",
      "45000/45000 [==============================] - 19s 431us/sample - loss: 1.2079 - accuracy: 0.5779 - val_loss: 1.4927 - val_accuracy: 0.4628\n",
      "Epoch 14/40\n",
      "45000/45000 [==============================] - 19s 430us/sample - loss: 1.1778 - accuracy: 0.5879 - val_loss: 1.5290 - val_accuracy: 0.4804\n"
     ]
    },
    {
     "data": {
      "text/plain": [
       "<tensorflow.python.keras.callbacks.History at 0x20f6476b888>"
      ]
     },
     "execution_count": 92,
     "metadata": {},
     "output_type": "execute_result"
    }
   ],
   "source": [
    "model = Sequential()\n",
    "model.add(Flatten(input_shape=(32,32,3)))\n",
    "model.add(Dense(3072, activation='relu'))\n",
    "model.add(Dense(1024, activation='relu'))\n",
    "model.add(Dense(10, activation='sigmoid'))\n",
    "\n",
    "print(model.summary())\n",
    "\n",
    "model.compile(optimizer='SGD', loss='categorical_crossentropy', metrics=['accuracy'])\n",
    "\n",
    "es = tf.keras.callbacks.EarlyStopping(monitor='val_loss', patience=5)\n",
    "model.fit(X_train, y_train,  validation_data=[X_val, y_val], epochs=40, callbacks=[es])"
   ]
  },
  {
   "cell_type": "code",
   "execution_count": 94,
   "metadata": {
    "ExecuteTime": {
     "end_time": "2020-11-02T12:11:32.420306Z",
     "start_time": "2020-11-02T12:11:30.161210Z"
    }
   },
   "outputs": [
    {
     "name": "stdout",
     "output_type": "stream",
     "text": [
      "10000/10000 [==============================] - 2s 207us/sample - loss: 1.5203 - accuracy: 0.4728\n"
     ]
    },
    {
     "data": {
      "text/plain": [
       "[1.5202577260971069, 0.4728]"
      ]
     },
     "execution_count": 94,
     "metadata": {},
     "output_type": "execute_result"
    }
   ],
   "source": [
    "model.evaluate(X_test, y_test_oh) "
   ]
  },
  {
   "cell_type": "code",
   "execution_count": 17,
   "metadata": {
    "ExecuteTime": {
     "end_time": "2020-10-28T21:51:18.224673Z",
     "start_time": "2020-10-28T21:51:16.553436Z"
    }
   },
   "outputs": [
    {
     "name": "stdout",
     "output_type": "stream",
     "text": [
      "              precision    recall  f1-score   support\n",
      "\n",
      "           0       0.65      0.50      0.56      1000\n",
      "           1       0.80      0.31      0.45      1000\n",
      "           2       0.34      0.55      0.42      1000\n",
      "           3       0.32      0.31      0.31      1000\n",
      "           4       0.69      0.12      0.21      1000\n",
      "           5       0.36      0.50      0.42      1000\n",
      "           6       0.46      0.70      0.55      1000\n",
      "           7       0.51      0.65      0.57      1000\n",
      "           8       0.79      0.49      0.60      1000\n",
      "           9       0.50      0.64      0.56      1000\n",
      "\n",
      "    accuracy                           0.48     10000\n",
      "   macro avg       0.54      0.48      0.47     10000\n",
      "weighted avg       0.54      0.48      0.47     10000\n",
      "\n",
      "\n",
      "\n",
      "[[498   8 183  32   1  47  55  66  55  55]\n",
      " [ 40 309  30  65   2  34  63  50  34 373]\n",
      " [ 33   3 547  75  16 104 120  87   3  12]\n",
      " [  5   2 106 308   5 312 171  64   6  21]\n",
      " [ 21   2 347  63 124 106 183 137   7  10]\n",
      " [  5   1 140 173   6 502  92  64   4  13]\n",
      " [  1   1 102  84  10  69 699  24   3   7]\n",
      " [ 14   0  78  70   8 102  51 652   2  23]\n",
      " [118  25  58  37   6  70  41  30 487 128]\n",
      " [ 31  35  22  56   2  44  61  99  12 638]]\n"
     ]
    }
   ],
   "source": [
    "pred = model.predict(X_test)\n",
    "pred = [np.argmax(x) for x in pred]\n",
    "print(classification_report(y_test, pred))\n",
    "print('\\n')\n",
    "print(confusion_matrix(y_test, pred))"
   ]
  },
  {
   "cell_type": "markdown",
   "metadata": {},
   "source": [
    "## The artificial neural network preformed poorly on the test data getting 48 percent accuracy. It performed best on class 8 (ship) and worst on class 4 (deer). Next we would try a convolution neural network which is more suited to images"
   ]
  },
  {
   "cell_type": "markdown",
   "metadata": {},
   "source": [
    "# Convolution Neural Network"
   ]
  },
  {
   "cell_type": "code",
   "execution_count": 42,
   "metadata": {
    "ExecuteTime": {
     "end_time": "2020-11-01T15:43:34.725515Z",
     "start_time": "2020-11-01T15:43:34.707524Z"
    }
   },
   "outputs": [],
   "source": [
    "from tensorflow.keras.preprocessing.image import ImageDataGenerator\n",
    "\n",
    "datagen = ImageDataGenerator(horizontal_flip=True)\n",
    "\n",
    "# zca_whitening=True\n",
    "\n",
    "#datagen.fit(X_train, seed=42)"
   ]
  },
  {
   "cell_type": "code",
   "execution_count": 100,
   "metadata": {
    "ExecuteTime": {
     "end_time": "2020-11-02T12:19:42.252627Z",
     "start_time": "2020-11-02T12:17:10.899192Z"
    },
    "scrolled": false
   },
   "outputs": [
    {
     "name": "stdout",
     "output_type": "stream",
     "text": [
      "Model: \"sequential_21\"\n",
      "_________________________________________________________________\n",
      "Layer (type)                 Output Shape              Param #   \n",
      "=================================================================\n",
      "conv2d_57 (Conv2D)           (None, 32, 32, 32)        896       \n",
      "_________________________________________________________________\n",
      "max_pooling2d_57 (MaxPooling (None, 16, 16, 32)        0         \n",
      "_________________________________________________________________\n",
      "conv2d_58 (Conv2D)           (None, 16, 16, 32)        9248      \n",
      "_________________________________________________________________\n",
      "max_pooling2d_58 (MaxPooling (None, 8, 8, 32)          0         \n",
      "_________________________________________________________________\n",
      "conv2d_59 (Conv2D)           (None, 8, 8, 64)          18496     \n",
      "_________________________________________________________________\n",
      "max_pooling2d_59 (MaxPooling (None, 4, 4, 64)          0         \n",
      "_________________________________________________________________\n",
      "flatten_21 (Flatten)         (None, 1024)              0         \n",
      "_________________________________________________________________\n",
      "dense_67 (Dense)             (None, 512)               524800    \n",
      "_________________________________________________________________\n",
      "dropout_38 (Dropout)         (None, 512)               0         \n",
      "_________________________________________________________________\n",
      "dense_68 (Dense)             (None, 256)               131328    \n",
      "_________________________________________________________________\n",
      "dropout_39 (Dropout)         (None, 256)               0         \n",
      "_________________________________________________________________\n",
      "dense_69 (Dense)             (None, 10)                2570      \n",
      "=================================================================\n",
      "Total params: 687,338\n",
      "Trainable params: 687,338\n",
      "Non-trainable params: 0\n",
      "_________________________________________________________________\n",
      "None \n",
      "\n",
      "Train on 45000 samples, validate on 5000 samples\n",
      "Epoch 1/40\n",
      "45000/45000 [==============================] - 12s 257us/sample - loss: 1.6194 - accuracy: 0.4048 - val_loss: 1.4221 - val_accuracy: 0.4840\n",
      "Epoch 2/40\n",
      "45000/45000 [==============================] - 11s 238us/sample - loss: 1.2069 - accuracy: 0.5644 - val_loss: 1.0848 - val_accuracy: 0.6168\n",
      "Epoch 3/40\n",
      "45000/45000 [==============================] - 11s 237us/sample - loss: 1.0241 - accuracy: 0.6359 - val_loss: 0.9675 - val_accuracy: 0.6668\n",
      "Epoch 4/40\n",
      "45000/45000 [==============================] - 11s 238us/sample - loss: 0.9034 - accuracy: 0.6816 - val_loss: 0.8921 - val_accuracy: 0.6868\n",
      "Epoch 5/40\n",
      "45000/45000 [==============================] - 11s 237us/sample - loss: 0.8104 - accuracy: 0.7148 - val_loss: 0.8465 - val_accuracy: 0.7032\n",
      "Epoch 6/40\n",
      "45000/45000 [==============================] - 11s 238us/sample - loss: 0.7253 - accuracy: 0.7440 - val_loss: 0.8360 - val_accuracy: 0.7090\n",
      "Epoch 7/40\n",
      "45000/45000 [==============================] - 11s 241us/sample - loss: 0.6654 - accuracy: 0.7648 - val_loss: 0.7975 - val_accuracy: 0.7232\n",
      "Epoch 8/40\n",
      "45000/45000 [==============================] - 11s 237us/sample - loss: 0.6054 - accuracy: 0.7883 - val_loss: 0.7851 - val_accuracy: 0.7368\n",
      "Epoch 9/40\n",
      "45000/45000 [==============================] - 11s 238us/sample - loss: 0.5376 - accuracy: 0.8116 - val_loss: 0.7849 - val_accuracy: 0.7348\n",
      "Epoch 10/40\n",
      "45000/45000 [==============================] - 11s 238us/sample - loss: 0.4963 - accuracy: 0.8250 - val_loss: 0.8258 - val_accuracy: 0.7156\n",
      "Epoch 11/40\n",
      "45000/45000 [==============================] - 11s 239us/sample - loss: 0.4411 - accuracy: 0.8447 - val_loss: 0.8334 - val_accuracy: 0.7396\n",
      "Epoch 12/40\n",
      "45000/45000 [==============================] - 11s 239us/sample - loss: 0.3970 - accuracy: 0.8616 - val_loss: 0.8370 - val_accuracy: 0.7472\n",
      "Epoch 13/40\n",
      "45000/45000 [==============================] - 11s 238us/sample - loss: 0.3592 - accuracy: 0.8735 - val_loss: 0.8705 - val_accuracy: 0.7330\n",
      "Epoch 14/40\n",
      "45000/45000 [==============================] - 11s 241us/sample - loss: 0.3198 - accuracy: 0.8872 - val_loss: 0.9246 - val_accuracy: 0.7372\n"
     ]
    },
    {
     "data": {
      "text/plain": [
       "<tensorflow.python.keras.callbacks.History at 0x20f66eb0848>"
      ]
     },
     "execution_count": 100,
     "metadata": {},
     "output_type": "execute_result"
    }
   ],
   "source": [
    "from tensorflow.keras.layers import Conv2D, MaxPool2D\n",
    "cnn = Sequential()\n",
    "\n",
    "# data augumentation\n",
    "# cnn.add(preprocessing.RandomFlip('horizontal')) # flip left to right\n",
    "# cnn.add(preprocessing.RandomContrast(0.5)) # contrast change by up to 50%\n",
    "\n",
    "# convolution layer\n",
    "cnn.add(Conv2D(filters=32, kernel_size=(3, 3), activation='relu',\n",
    "               padding='same', input_shape=(32, 32, 3)))\n",
    "cnn.add(MaxPool2D((2, 2)))\n",
    "\n",
    "cnn.add(Conv2D(filters=32, kernel_size=(3, 3),\n",
    "               activation='relu', padding='same'))\n",
    "cnn.add(MaxPool2D((2, 2)))\n",
    "\n",
    "cnn.add(Conv2D(filters=64, kernel_size=(3, 3),\n",
    "               activation='relu', padding='same'))\n",
    "cnn.add(MaxPool2D((2, 2)))\n",
    "\n",
    "# DNN classifier layer\n",
    "cnn.add(Flatten())\n",
    "cnn.add(Dense(512, activation='relu'))\n",
    "cnn.add(Dropout(0.2))\n",
    "\n",
    "cnn.add(Dense(256, activation='relu'))\n",
    "cnn.add(Dropout(0.2))\n",
    "\n",
    "# cnn.add(BatchNormalization())\n",
    "\n",
    "cnn.add(Dense(10, activation='softmax'))\n",
    "\n",
    "print(cnn.summary(), '\\n')\n",
    "\n",
    "cnn.compile(loss='categorical_crossentropy',\n",
    "            optimizer='adam', metrics=['accuracy'])\n",
    "\n",
    "es = tf.keras.callbacks.EarlyStopping(patience=5, monitor='val_loss')\n",
    "cnn.fit(X_train, y_train, batch_size=128, validation_data=[X_val, y_val], callbacks=[es], epochs=40)"
   ]
  },
  {
   "cell_type": "code",
   "execution_count": 101,
   "metadata": {
    "ExecuteTime": {
     "end_time": "2020-11-02T12:19:50.605888Z",
     "start_time": "2020-11-02T12:19:48.375469Z"
    }
   },
   "outputs": [
    {
     "name": "stdout",
     "output_type": "stream",
     "text": [
      "10000/10000 [==============================] - 2s 203us/sample - loss: 0.9532 - accuracy: 0.7284\n"
     ]
    },
    {
     "data": {
      "text/plain": [
       "[0.9532061398506164, 0.7284]"
      ]
     },
     "execution_count": 101,
     "metadata": {},
     "output_type": "execute_result"
    }
   ],
   "source": [
    "cnn.evaluate(X_test, y_test_oh)"
   ]
  },
  {
   "cell_type": "markdown",
   "metadata": {},
   "source": [
    "## Results\n",
    "- CNN Base Accuracy: 0.7165, loss: 0.9423 (with valid padding) \n",
    "- with same padding, Accuracy: 0.7498 , loss: 1.1980"
   ]
  },
  {
   "cell_type": "code",
   "execution_count": 77,
   "metadata": {
    "ExecuteTime": {
     "end_time": "2020-11-02T11:24:01.648518Z",
     "start_time": "2020-11-02T11:23:59.898784Z"
    }
   },
   "outputs": [
    {
     "data": {
      "text/plain": [
       "array([[9.0831444e-03, 6.2974142e-03, 4.1727073e-02, ..., 1.3908591e-02,\n",
       "        4.9401369e-02, 3.7941639e-03],\n",
       "       [9.7291086e-06, 9.9668568e-01, 1.3140768e-11, ..., 1.4708816e-12,\n",
       "        1.6313447e-02, 2.2943712e-05],\n",
       "       [9.1973983e-02, 4.5206195e-01, 7.2195871e-05, ..., 9.8815850e-05,\n",
       "        1.0513750e-01, 2.6250675e-01],\n",
       "       ...,\n",
       "       [1.4018295e-07, 1.7940168e-08, 2.0776486e-01, ..., 1.0609363e-02,\n",
       "        7.5108817e-09, 1.4930369e-07],\n",
       "       [1.0560503e-03, 1.4082702e-01, 7.4496299e-02, ..., 9.7728455e-03,\n",
       "        7.3303767e-05, 1.6160958e-04],\n",
       "       [5.7247003e-09, 3.8489226e-08, 6.2935928e-06, ..., 9.9653107e-01,\n",
       "        5.1231388e-09, 1.1388489e-08]], dtype=float32)"
      ]
     },
     "execution_count": 77,
     "metadata": {},
     "output_type": "execute_result"
    }
   ],
   "source": [
    "pred = cnn.predict(X_test)\n",
    "\n",
    "for x in pred:\n",
    "    for y in x:\n",
    "        check = 0\n",
    "        if y > 0:\n",
    "            check=y\n",
    "    x = x/check\n",
    "\n",
    "pred"
   ]
  },
  {
   "cell_type": "code",
   "execution_count": 80,
   "metadata": {
    "ExecuteTime": {
     "end_time": "2020-11-02T11:25:26.813882Z",
     "start_time": "2020-11-02T11:25:25.353659Z"
    }
   },
   "outputs": [
    {
     "name": "stdout",
     "output_type": "stream",
     "text": [
      "              precision    recall  f1-score   support\n",
      "\n",
      "           0       0.71      0.81      0.76      1000\n",
      "           1       0.83      0.85      0.84      1000\n",
      "           2       0.58      0.70      0.63      1000\n",
      "           3       0.61      0.49      0.54      1000\n",
      "           4       0.73      0.63      0.67      1000\n",
      "           5       0.63      0.67      0.65      1000\n",
      "           6       0.88      0.71      0.79      1000\n",
      "           7       0.74      0.81      0.77      1000\n",
      "           8       0.81      0.86      0.83      1000\n",
      "           9       0.84      0.79      0.81      1000\n",
      "\n",
      "    accuracy                           0.73     10000\n",
      "   macro avg       0.74      0.73      0.73     10000\n",
      "weighted avg       0.74      0.73      0.73     10000\n",
      "\n",
      "\n",
      "\n",
      "[[813  18  43   9   9   9   6  15  57  21]\n",
      " [ 16 852  12   8   3   6   4   2  34  63]\n",
      " [ 82   5 699  33  57  52  18  31  16   7]\n",
      " [ 40  14 105 495  50 185  27  46  20  18]\n",
      " [ 36   6 115  55 629  34  19  94  10   2]\n",
      " [ 18   5  83 104  28 670  12  63  11   6]\n",
      " [ 11  11  82  70  47  32 714  13  14   6]\n",
      " [ 18   3  32  25  35  62   4 805   5  11]\n",
      " [ 65  28  17   7   4   5   1   4 858  11]\n",
      " [ 40  86  14  11   3   8   2  14  37 785]]\n"
     ]
    }
   ],
   "source": [
    "pred1 = cnn.predict(X_test)\n",
    "cnn.\n",
    "#y_test_oh = [np.argmax(x) for x in y_test_oh]\n",
    "pred1 = [np.argmax(x) for x in pred]\n",
    "print(classification_report(y_test, pred1))\n",
    "print('\\n')\n",
    "print(confusion_matrix(y_test, pred1))"
   ]
  },
  {
   "cell_type": "markdown",
   "metadata": {},
   "source": [
    "## What i noticed is that our cnn classifier performed much better than our ann classifier(71 percent vs 48 percent accuracy). It also performed better on certain image classes and less on others\n",
    "- It performed best on image class 1 (automobile)\n",
    "- it performed performed the least on image class 3 (cat)\n",
    "\n",
    "Comparing the two models,  they both performed well on class 8(ship) and poorly on class 3(cat)"
   ]
  },
  {
   "cell_type": "markdown",
   "metadata": {},
   "source": [
    "# Using transfer learning with VGG16 model"
   ]
  },
  {
   "cell_type": "code",
   "execution_count": 104,
   "metadata": {
    "ExecuteTime": {
     "end_time": "2020-11-02T12:26:52.289628Z",
     "start_time": "2020-11-02T12:26:48.773317Z"
    }
   },
   "outputs": [
    {
     "data": {
      "text/plain": [
       "(10000, 10)"
      ]
     },
     "execution_count": 104,
     "metadata": {},
     "output_type": "execute_result"
    }
   ],
   "source": [
    "# Reload the data\n",
    "\n",
    "X_train, y_train, y_train_oh = load_train_data()\n",
    "X_test, y_test, y_test_oh = load_test_data()\n",
    "\n",
    "# Preprocess the data\n",
    "\n",
    "def preprocess(X, y):\n",
    "    X = X.astype('float32')\n",
    "    #using preprocess VGG16 method by default to scale images and their values\n",
    "    X = preprocess_input(X)\n",
    "    # changind labels to one-hot representation\n",
    "    y = tf.keras.utils.to_categorical(y, 10)\n",
    "    return (X, y)\n",
    "\n",
    "X_train, y_train = preprocess(X_train, y_train)\n",
    "X_test, y_test = preprocess(X_test, y_test)\n",
    "\n",
    "ss = StratifiedShuffleSplit(n_splits=1, test_size=0.1, random_state=42)\n",
    "\n",
    "for train_index, test_index in ss.split(X_train, y_train):\n",
    "    X_train, X_val = X_train[train_index], X_train[test_index]\n",
    "    y_train, y_val = y_train_oh[train_index], y_train_oh[test_index]\n",
    "\n",
    "y_test.shape"
   ]
  },
  {
   "cell_type": "code",
   "execution_count": 103,
   "metadata": {
    "ExecuteTime": {
     "end_time": "2020-11-02T12:23:25.922344Z",
     "start_time": "2020-11-02T12:23:24.259271Z"
    }
   },
   "outputs": [],
   "source": [
    "# load the base of vgg16\n",
    "\n",
    "pt_base = tf.keras.applications.vgg16.VGG16(\n",
    "    include_top=False, weights='imagenet', pooling='max', input_shape=(32, 32, 3))\n",
    "\n",
    "#pt_base.trainable = False"
   ]
  },
  {
   "cell_type": "code",
   "execution_count": 106,
   "metadata": {
    "ExecuteTime": {
     "end_time": "2020-11-02T15:43:14.471398Z",
     "start_time": "2020-11-02T12:29:11.928193Z"
    },
    "scrolled": false
   },
   "outputs": [
    {
     "name": "stdout",
     "output_type": "stream",
     "text": [
      "WARNING:tensorflow:Model was constructed with shape Tensor(\"input_1:0\", shape=(None, 32, 32, 3), dtype=float32) for input (None, 32, 32, 3), but it was re-called on a Tensor with incompatible shape (None, 64, 64, 3).\n",
      "Train on 45000 samples, validate on 5000 samples\n",
      "Epoch 1/40\n",
      "WARNING:tensorflow:Model was constructed with shape Tensor(\"input_1:0\", shape=(None, 32, 32, 3), dtype=float32) for input (None, 32, 32, 3), but it was re-called on a Tensor with incompatible shape (None, 64, 64, 3).\n",
      "WARNING:tensorflow:Model was constructed with shape Tensor(\"input_1:0\", shape=(None, 32, 32, 3), dtype=float32) for input (None, 32, 32, 3), but it was re-called on a Tensor with incompatible shape (None, 64, 64, 3).\n",
      "44928/45000 [============================>.] - ETA: 0s - loss: 2.2713 - accuracy: 0.1768WARNING:tensorflow:Model was constructed with shape Tensor(\"input_1:0\", shape=(None, 32, 32, 3), dtype=float32) for input (None, 32, 32, 3), but it was re-called on a Tensor with incompatible shape (None, 64, 64, 3).\n",
      "45000/45000 [==============================] - 467s 10ms/sample - loss: 2.2705 - accuracy: 0.1771 - val_loss: 1.8703 - val_accuracy: 0.2336\n",
      "Epoch 2/40\n",
      "45000/45000 [==============================] - 466s 10ms/sample - loss: 1.6295 - accuracy: 0.3630 - val_loss: 1.2693 - val_accuracy: 0.5286\n",
      "Epoch 3/40\n",
      "45000/45000 [==============================] - 467s 10ms/sample - loss: 1.2065 - accuracy: 0.5622 - val_loss: 0.9604 - val_accuracy: 0.6532\n",
      "Epoch 4/40\n",
      "45000/45000 [==============================] - 466s 10ms/sample - loss: 0.9688 - accuracy: 0.6586 - val_loss: 0.9250 - val_accuracy: 0.6704\n",
      "Epoch 5/40\n",
      "45000/45000 [==============================] - 462s 10ms/sample - loss: 0.8206 - accuracy: 0.7166 - val_loss: 0.7710 - val_accuracy: 0.7252\n",
      "Epoch 6/40\n",
      "45000/45000 [==============================] - 462s 10ms/sample - loss: 0.7140 - accuracy: 0.7565 - val_loss: 0.7787 - val_accuracy: 0.7444\n",
      "Epoch 7/40\n",
      "45000/45000 [==============================] - 463s 10ms/sample - loss: 0.6312 - accuracy: 0.7852 - val_loss: 0.7249 - val_accuracy: 0.7532\n",
      "Epoch 8/40\n",
      "45000/45000 [==============================] - 464s 10ms/sample - loss: 0.5731 - accuracy: 0.8088 - val_loss: 0.6665 - val_accuracy: 0.7758\n",
      "Epoch 9/40\n",
      "45000/45000 [==============================] - 466s 10ms/sample - loss: 0.5272 - accuracy: 0.8246 - val_loss: 0.6309 - val_accuracy: 0.7898\n",
      "Epoch 10/40\n",
      "45000/45000 [==============================] - 466s 10ms/sample - loss: 0.4810 - accuracy: 0.8405 - val_loss: 0.6306 - val_accuracy: 0.7928\n",
      "Epoch 11/40\n",
      "45000/45000 [==============================] - 466s 10ms/sample - loss: 0.4404 - accuracy: 0.8556 - val_loss: 0.6248 - val_accuracy: 0.7950\n",
      "Epoch 12/40\n",
      "45000/45000 [==============================] - 466s 10ms/sample - loss: 0.3996 - accuracy: 0.8665 - val_loss: 0.6547 - val_accuracy: 0.7898\n",
      "Epoch 13/40\n",
      "45000/45000 [==============================] - 466s 10ms/sample - loss: 0.3877 - accuracy: 0.8728 - val_loss: 0.6198 - val_accuracy: 0.7994\n",
      "Epoch 14/40\n",
      "45000/45000 [==============================] - 466s 10ms/sample - loss: 0.3931 - accuracy: 0.8726 - val_loss: 0.6672 - val_accuracy: 0.7890\n",
      "Epoch 15/40\n",
      "45000/45000 [==============================] - 466s 10ms/sample - loss: 0.3534 - accuracy: 0.8853 - val_loss: 0.6179 - val_accuracy: 0.8116\n",
      "Epoch 16/40\n",
      "45000/45000 [==============================] - 466s 10ms/sample - loss: 0.3364 - accuracy: 0.8910 - val_loss: 0.6373 - val_accuracy: 0.8114\n",
      "Epoch 17/40\n",
      "45000/45000 [==============================] - 466s 10ms/sample - loss: 0.3220 - accuracy: 0.8965 - val_loss: 0.6845 - val_accuracy: 0.7936\n",
      "Epoch 18/40\n",
      "45000/45000 [==============================] - 467s 10ms/sample - loss: 0.3319 - accuracy: 0.8961 - val_loss: 0.6344 - val_accuracy: 0.8158\n",
      "Epoch 19/40\n",
      "45000/45000 [==============================] - 467s 10ms/sample - loss: 0.3173 - accuracy: 0.8972 - val_loss: 0.7062 - val_accuracy: 0.8000\n",
      "Epoch 20/40\n",
      "45000/45000 [==============================] - 466s 10ms/sample - loss: 0.3178 - accuracy: 0.9006 - val_loss: 0.6568 - val_accuracy: 0.8184\n",
      "Epoch 21/40\n",
      "45000/45000 [==============================] - 467s 10ms/sample - loss: 0.3077 - accuracy: 0.9029 - val_loss: 0.6484 - val_accuracy: 0.8104\n",
      "Epoch 22/40\n",
      "45000/45000 [==============================] - 466s 10ms/sample - loss: 0.3070 - accuracy: 0.9032 - val_loss: 0.6564 - val_accuracy: 0.8258\n",
      "Epoch 23/40\n",
      "45000/45000 [==============================] - 466s 10ms/sample - loss: 0.2924 - accuracy: 0.9094 - val_loss: 0.6896 - val_accuracy: 0.8186\n",
      "Epoch 24/40\n",
      "45000/45000 [==============================] - 466s 10ms/sample - loss: 0.2902 - accuracy: 0.9089 - val_loss: 0.6943 - val_accuracy: 0.8050\n",
      "Epoch 25/40\n",
      "45000/45000 [==============================] - 466s 10ms/sample - loss: 0.2950 - accuracy: 0.9081 - val_loss: 0.7960 - val_accuracy: 0.7986\n"
     ]
    },
    {
     "data": {
      "text/plain": [
       "<tensorflow.python.keras.callbacks.History at 0x20f67132dc8>"
      ]
     },
     "execution_count": 106,
     "metadata": {},
     "output_type": "execute_result"
    }
   ],
   "source": [
    "# attach the head\n",
    "\n",
    "tf_model = Sequential()\n",
    "tf_model.add(tf.keras.layers.UpSampling2D())\n",
    "\n",
    "tf_model.add(pt_base)\n",
    "\n",
    "tf_model.add(Flatten())\n",
    "\n",
    "tf_model.add(Dense(512, activation='relu'))\n",
    "tf_model.add(Dropout(0.2))\n",
    "#tf_model.add(BatchNormalization())\n",
    "\n",
    "tf_model.add(Dense(256, activation='relu'))\n",
    "tf_model.add(Dropout(0.2))\n",
    "#tf_model.add(BatchNormalization())\n",
    "\n",
    "tf_model.add(Dense(10, activation='softmax'))\n",
    "\n",
    "#print(tf_model.summary())\n",
    "\n",
    "tf_model.compile(loss='categorical_crossentropy', optimizer='adam', metrics=['accuracy'])\n",
    "\n",
    "es = tf.keras.callbacks.EarlyStopping(patience=10, monitor='val_loss')\n",
    "tf_model.fit(X_train, y_train, batch_size=128, validation_data=[X_val, y_val], callbacks=[es], epochs=40)"
   ]
  },
  {
   "cell_type": "code",
   "execution_count": 107,
   "metadata": {
    "ExecuteTime": {
     "end_time": "2020-11-02T15:45:20.263065Z",
     "start_time": "2020-11-02T15:44:39.176540Z"
    }
   },
   "outputs": [
    {
     "name": "stdout",
     "output_type": "stream",
     "text": [
      "WARNING:tensorflow:Model was constructed with shape Tensor(\"input_1:0\", shape=(None, 32, 32, 3), dtype=float32) for input (None, 32, 32, 3), but it was re-called on a Tensor with incompatible shape (None, 64, 64, 3).\n",
      "10000/10000 [==============================] - 39s 4ms/sample - loss: 0.7992 - accuracy: 0.7999\n"
     ]
    },
    {
     "data": {
      "text/plain": [
       "[0.7992437379837036, 0.7999]"
      ]
     },
     "execution_count": 107,
     "metadata": {},
     "output_type": "execute_result"
    }
   ],
   "source": [
    "tf_model.evaluate(X_test, y_test)"
   ]
  },
  {
   "cell_type": "markdown",
   "metadata": {},
   "source": [
    "# Result\n",
    "- using a pretrained base - accuracy: 0.9413, loss: 0.1659\n",
    "- using an untrained base - accuracy: 0.80, loss: 0.80"
   ]
  },
  {
   "cell_type": "code",
   "execution_count": 109,
   "metadata": {
    "ExecuteTime": {
     "end_time": "2020-11-02T15:50:25.187007Z",
     "start_time": "2020-11-02T15:49:48.274864Z"
    }
   },
   "outputs": [
    {
     "ename": "ValueError",
     "evalue": "Classification metrics can't handle a mix of multilabel-indicator and multiclass targets",
     "output_type": "error",
     "traceback": [
      "\u001b[1;31m---------------------------------------------------------------------------\u001b[0m",
      "\u001b[1;31mValueError\u001b[0m                                Traceback (most recent call last)",
      "\u001b[1;32m<ipython-input-109-84c003ba95f6>\u001b[0m in \u001b[0;36m<module>\u001b[1;34m\u001b[0m\n\u001b[0;32m      3\u001b[0m \u001b[0mpred2\u001b[0m \u001b[1;33m=\u001b[0m \u001b[1;33m[\u001b[0m\u001b[0mnp\u001b[0m\u001b[1;33m.\u001b[0m\u001b[0margmax\u001b[0m\u001b[1;33m(\u001b[0m\u001b[0mx\u001b[0m\u001b[1;33m)\u001b[0m \u001b[1;32mfor\u001b[0m \u001b[0mx\u001b[0m \u001b[1;32min\u001b[0m \u001b[0mpred2\u001b[0m\u001b[1;33m]\u001b[0m\u001b[1;33m\u001b[0m\u001b[1;33m\u001b[0m\u001b[0m\n\u001b[0;32m      4\u001b[0m \u001b[1;33m\u001b[0m\u001b[0m\n\u001b[1;32m----> 5\u001b[1;33m \u001b[0mprint\u001b[0m\u001b[1;33m(\u001b[0m\u001b[0mclassification_report\u001b[0m\u001b[1;33m(\u001b[0m\u001b[0my_test\u001b[0m\u001b[1;33m,\u001b[0m \u001b[0mpred2\u001b[0m\u001b[1;33m)\u001b[0m\u001b[1;33m)\u001b[0m\u001b[1;33m\u001b[0m\u001b[1;33m\u001b[0m\u001b[0m\n\u001b[0m\u001b[0;32m      6\u001b[0m \u001b[0mprint\u001b[0m\u001b[1;33m(\u001b[0m\u001b[1;34m'\\n'\u001b[0m\u001b[1;33m)\u001b[0m\u001b[1;33m\u001b[0m\u001b[1;33m\u001b[0m\u001b[0m\n\u001b[0;32m      7\u001b[0m \u001b[0mprint\u001b[0m\u001b[1;33m(\u001b[0m\u001b[0mconfusion_matrix\u001b[0m\u001b[1;33m(\u001b[0m\u001b[0my_test\u001b[0m\u001b[1;33m,\u001b[0m \u001b[0mpred2\u001b[0m\u001b[1;33m)\u001b[0m\u001b[1;33m)\u001b[0m\u001b[1;33m\u001b[0m\u001b[1;33m\u001b[0m\u001b[0m\n",
      "\u001b[1;32m~\\anaconda3\\envs\\tf_gpu\\lib\\site-packages\\sklearn\\utils\\validation.py\u001b[0m in \u001b[0;36minner_f\u001b[1;34m(*args, **kwargs)\u001b[0m\n\u001b[0;32m     71\u001b[0m                           FutureWarning)\n\u001b[0;32m     72\u001b[0m         \u001b[0mkwargs\u001b[0m\u001b[1;33m.\u001b[0m\u001b[0mupdate\u001b[0m\u001b[1;33m(\u001b[0m\u001b[1;33m{\u001b[0m\u001b[0mk\u001b[0m\u001b[1;33m:\u001b[0m \u001b[0marg\u001b[0m \u001b[1;32mfor\u001b[0m \u001b[0mk\u001b[0m\u001b[1;33m,\u001b[0m \u001b[0marg\u001b[0m \u001b[1;32min\u001b[0m \u001b[0mzip\u001b[0m\u001b[1;33m(\u001b[0m\u001b[0msig\u001b[0m\u001b[1;33m.\u001b[0m\u001b[0mparameters\u001b[0m\u001b[1;33m,\u001b[0m \u001b[0margs\u001b[0m\u001b[1;33m)\u001b[0m\u001b[1;33m}\u001b[0m\u001b[1;33m)\u001b[0m\u001b[1;33m\u001b[0m\u001b[1;33m\u001b[0m\u001b[0m\n\u001b[1;32m---> 73\u001b[1;33m         \u001b[1;32mreturn\u001b[0m \u001b[0mf\u001b[0m\u001b[1;33m(\u001b[0m\u001b[1;33m**\u001b[0m\u001b[0mkwargs\u001b[0m\u001b[1;33m)\u001b[0m\u001b[1;33m\u001b[0m\u001b[1;33m\u001b[0m\u001b[0m\n\u001b[0m\u001b[0;32m     74\u001b[0m     \u001b[1;32mreturn\u001b[0m \u001b[0minner_f\u001b[0m\u001b[1;33m\u001b[0m\u001b[1;33m\u001b[0m\u001b[0m\n\u001b[0;32m     75\u001b[0m \u001b[1;33m\u001b[0m\u001b[0m\n",
      "\u001b[1;32m~\\anaconda3\\envs\\tf_gpu\\lib\\site-packages\\sklearn\\metrics\\_classification.py\u001b[0m in \u001b[0;36mclassification_report\u001b[1;34m(y_true, y_pred, labels, target_names, sample_weight, digits, output_dict, zero_division)\u001b[0m\n\u001b[0;32m   1927\u001b[0m     \"\"\"\n\u001b[0;32m   1928\u001b[0m \u001b[1;33m\u001b[0m\u001b[0m\n\u001b[1;32m-> 1929\u001b[1;33m     \u001b[0my_type\u001b[0m\u001b[1;33m,\u001b[0m \u001b[0my_true\u001b[0m\u001b[1;33m,\u001b[0m \u001b[0my_pred\u001b[0m \u001b[1;33m=\u001b[0m \u001b[0m_check_targets\u001b[0m\u001b[1;33m(\u001b[0m\u001b[0my_true\u001b[0m\u001b[1;33m,\u001b[0m \u001b[0my_pred\u001b[0m\u001b[1;33m)\u001b[0m\u001b[1;33m\u001b[0m\u001b[1;33m\u001b[0m\u001b[0m\n\u001b[0m\u001b[0;32m   1930\u001b[0m \u001b[1;33m\u001b[0m\u001b[0m\n\u001b[0;32m   1931\u001b[0m     \u001b[0mlabels_given\u001b[0m \u001b[1;33m=\u001b[0m \u001b[1;32mTrue\u001b[0m\u001b[1;33m\u001b[0m\u001b[1;33m\u001b[0m\u001b[0m\n",
      "\u001b[1;32m~\\anaconda3\\envs\\tf_gpu\\lib\\site-packages\\sklearn\\metrics\\_classification.py\u001b[0m in \u001b[0;36m_check_targets\u001b[1;34m(y_true, y_pred)\u001b[0m\n\u001b[0;32m     89\u001b[0m     \u001b[1;32mif\u001b[0m \u001b[0mlen\u001b[0m\u001b[1;33m(\u001b[0m\u001b[0my_type\u001b[0m\u001b[1;33m)\u001b[0m \u001b[1;33m>\u001b[0m \u001b[1;36m1\u001b[0m\u001b[1;33m:\u001b[0m\u001b[1;33m\u001b[0m\u001b[1;33m\u001b[0m\u001b[0m\n\u001b[0;32m     90\u001b[0m         raise ValueError(\"Classification metrics can't handle a mix of {0} \"\n\u001b[1;32m---> 91\u001b[1;33m                          \"and {1} targets\".format(type_true, type_pred))\n\u001b[0m\u001b[0;32m     92\u001b[0m \u001b[1;33m\u001b[0m\u001b[0m\n\u001b[0;32m     93\u001b[0m     \u001b[1;31m# We can't have more than one value on y_type => The set is no more needed\u001b[0m\u001b[1;33m\u001b[0m\u001b[1;33m\u001b[0m\u001b[1;33m\u001b[0m\u001b[0m\n",
      "\u001b[1;31mValueError\u001b[0m: Classification metrics can't handle a mix of multilabel-indicator and multiclass targets"
     ]
    }
   ],
   "source": [
    "pred2 = tf_model.predict(X_test)\n",
    "\n",
    "pred2 = [np.argmax(x) for x in pred2]\n",
    "\n",
    "print(classification_report(y_test, pred2))\n",
    "print('\\n')\n",
    "print(confusion_matrix(y_test, pred2))"
   ]
  },
  {
   "cell_type": "code",
   "execution_count": 61,
   "metadata": {
    "ExecuteTime": {
     "end_time": "2020-11-02T05:36:14.595946Z",
     "start_time": "2020-11-02T05:36:14.555949Z"
    }
   },
   "outputs": [
    {
     "data": {
      "text/plain": [
       "array([[2.4638460e-03, 4.7984677e-03, 6.9234386e-02, 8.8135773e-01,\n",
       "        2.9722152e-03, 8.5631832e-02, 1.9329368e-03, 4.8492029e-03,\n",
       "        2.9388447e-03, 8.5422471e-03],\n",
       "       [1.9221329e-06, 6.6483831e-06, 1.7318740e-11, 1.5293489e-09,\n",
       "        1.0368213e-11, 1.3760970e-09, 8.2767448e-10, 7.4970976e-13,\n",
       "        9.9999678e-01, 2.1126366e-06],\n",
       "       [1.0045807e-07, 1.0694215e-07, 4.3051267e-11, 1.8041608e-07,\n",
       "        1.0883047e-08, 1.4120174e-09, 5.0609461e-11, 1.1546304e-10,\n",
       "        9.9999964e-01, 1.7983822e-07],\n",
       "       [9.9459249e-01, 2.6554329e-04, 5.2526998e-06, 5.7255529e-05,\n",
       "        6.8589194e-05, 1.4273588e-05, 4.1288608e-06, 4.9162081e-06,\n",
       "        9.0581095e-03, 2.6577491e-02],\n",
       "       [1.5259470e-06, 1.8828603e-05, 8.5450336e-03, 6.3157082e-03,\n",
       "        2.1594062e-03, 2.4105785e-04, 9.7402829e-01, 1.1041429e-05,\n",
       "        2.7482001e-06, 3.0972474e-06]], dtype=float32)"
      ]
     },
     "execution_count": 61,
     "metadata": {},
     "output_type": "execute_result"
    }
   ],
   "source": [
    "#pred2 = tf_model.predict(X_test)\n",
    "pred2[:5]"
   ]
  },
  {
   "cell_type": "code",
   "execution_count": 65,
   "metadata": {
    "ExecuteTime": {
     "end_time": "2020-11-02T05:37:14.892608Z",
     "start_time": "2020-11-02T05:37:14.852612Z"
    }
   },
   "outputs": [
    {
     "data": {
      "text/plain": [
       "array([[0., 0., 0., ..., 0., 0., 0.],\n",
       "       [0., 0., 0., ..., 0., 1., 0.],\n",
       "       [0., 0., 0., ..., 0., 1., 0.],\n",
       "       ...,\n",
       "       [0., 0., 0., ..., 0., 0., 0.],\n",
       "       [0., 1., 0., ..., 0., 0., 0.],\n",
       "       [0., 0., 0., ..., 1., 0., 0.]])"
      ]
     },
     "execution_count": 65,
     "metadata": {},
     "output_type": "execute_result"
    }
   ],
   "source": [
    "y_test_oh"
   ]
  },
  {
   "cell_type": "code",
   "execution_count": null,
   "metadata": {},
   "outputs": [],
   "source": []
  }
 ],
 "metadata": {
  "kernelspec": {
   "display_name": "Python [conda env:tf_gpu]",
   "language": "python",
   "name": "conda-env-tf_gpu-py"
  },
  "language_info": {
   "codemirror_mode": {
    "name": "ipython",
    "version": 3
   },
   "file_extension": ".py",
   "mimetype": "text/x-python",
   "name": "python",
   "nbconvert_exporter": "python",
   "pygments_lexer": "ipython3",
   "version": "3.7.8"
  },
  "toc": {
   "base_numbering": 1,
   "nav_menu": {},
   "number_sections": true,
   "sideBar": true,
   "skip_h1_title": false,
   "title_cell": "Table of Contents",
   "title_sidebar": "Contents",
   "toc_cell": false,
   "toc_position": {},
   "toc_section_display": true,
   "toc_window_display": false
  },
  "varInspector": {
   "cols": {
    "lenName": 16,
    "lenType": 16,
    "lenVar": 40
   },
   "kernels_config": {
    "python": {
     "delete_cmd_postfix": "",
     "delete_cmd_prefix": "del ",
     "library": "var_list.py",
     "varRefreshCmd": "print(var_dic_list())"
    },
    "r": {
     "delete_cmd_postfix": ") ",
     "delete_cmd_prefix": "rm(",
     "library": "var_list.r",
     "varRefreshCmd": "cat(var_dic_list()) "
    }
   },
   "types_to_exclude": [
    "module",
    "function",
    "builtin_function_or_method",
    "instance",
    "_Feature"
   ],
   "window_display": false
  }
 },
 "nbformat": 4,
 "nbformat_minor": 4
}
